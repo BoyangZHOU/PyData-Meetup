{
 "cells": [
  {
   "cell_type": "markdown",
   "metadata": {},
   "source": [
    "# Equity Option Implied Volatility Analytics with Python\n",
    "\n",
    "Python has become an increasingly important tool in the domain of quantitative and algorithmic trading and research. This extends from senior quantitative analysts pricing complex derivatives using numerical techniques all the way to the retail trader using closed form valuation methods and analysis techniques. This talk will focus on the uses of Python in discovering unobserved features of listed equity options known as implied volatility.\n",
    "\n",
    "In this talk, we'll learn a bit about Black-Scholes model, option pricing formula the \"greeks\" and how to code it all in Python. I'll then demonstrate how to gather options data using Pandas and apply various transformations to obtain the theoretical value of the option and the associated greeks. We'll then extend the talk to discuss implied volatility and show how to use Numpy methods to compute implied volatility and model missing and bad values. Finally, we'll use the results to visualize the so-called volatility skew and term structure to help inform potential trading decisions."
   ]
  },
  {
   "cell_type": "markdown",
   "metadata": {},
   "source": [
    "# About me\n",
    "\n",
    "I studied finance, economics and computer science during my undergraduate coursework in the US. In graduate school I studied quantitative finance and trading. I traded interest rate derivatives for a hedge fund in Chicago, worked for JPMorgan, BP and am now APAC CIO at a global agricultural trading firm.\n",
    "\n",
    "Because CIO has nothing to do with technology, I code in my free time.\n",
    "\n",
    "I'm online:\n",
    "\n",
    "* [LinkedIn](https://sg.linkedin.com/in/jasonstrimpel)\n",
    "* [Twitter](https://twitter.com/jasonstrimpel)\n",
    "* [Github](https://github.com/jasonstrimpel)\n",
    "* [Blog](http://www.bespokeoptions.com/blog)\n",
    "* [Finance Tools](http://finance.jasonstrimpel.com)\n",
    "* [Meetup](http://www.meetup.com/members/37553102/)"
   ]
  },
  {
   "cell_type": "markdown",
   "metadata": {},
   "source": [
    "# Important jargon\n",
    "\n",
    "Let's start with the parameters. Options priced with Black-Scholes have five input variables, four of which can be observed in the market and one of which is latent (unobservable, more on this later).\n",
    "\n",
    "* __Underlying stock price ($S$)__. Price of the underlying stock upon which the option derives its value.\n",
    "\n",
    "* __Strike price ($K$)__. The price at which the owner of the option can buy the underlying in the case of a call or sell the underlying in the case of a put.\n",
    "\n",
    "* __Time to expiration ($t$)__. Time (as a fraction of a 365 day year) until the expiration of the option.\n",
    "\n",
    "* __Risk free rate ($r$)__. So-called risk free rate (this is better described as the rate of interest you would earn in a riskless security over the holding period of the option)\n",
    "\n",
    "* __Volatility ($vol$)__. Volatility (or more usually implied volatility) is a latent value not actually observed in the market.\n",
    "\n",
    "Let's import our modules and declare these variables in Python for later use."
   ]
  },
  {
   "cell_type": "code",
   "execution_count": 3,
   "metadata": {
    "collapsed": false
   },
   "outputs": [
    {
     "name": "stdout",
     "output_type": "stream",
     "text": [
      "Numpy 1.10.1\n",
      "Matplotlib 1.4.3\n",
      "Scipy 0.15.1\n",
      "Pandas 0.17.1\n"
     ]
    }
   ],
   "source": [
    "# magic function to plot inline\n",
    "%matplotlib inline\n",
    "\n",
    "# import numpy and pyplot\n",
    "import numpy as np\n",
    "import matplotlib as mat\n",
    "import matplotlib.pyplot as plt\n",
    "import scipy\n",
    "from scipy.stats import norm\n",
    "from scipy.optimize import brentq\n",
    "from scipy.interpolate import interp1d\n",
    "import pandas\n",
    "import pandas.io.data as pd\n",
    "import time\n",
    "import datetime as dt\n",
    "from math import sqrt, pi\n",
    "\n",
    "print 'Numpy %s\\nMatplotlib %s\\nScipy %s\\nPandas %s' % \\\n",
    "    (np.__version__, mat.__version__, scipy.__version__, pandas.__version__)\n",
    "\n",
    "# underlying stock price\n",
    "S = 45.0\n",
    "\n",
    "# series of underlying stock prices to demonstrate a payoff profile\n",
    "S_ = np.arange(40.0, 50.0, 0.01)\n",
    "\n",
    "# strike price\n",
    "K = 45.0\n",
    "\n",
    "# time to expiration (you'll see this as T-t in the equation)\n",
    "t = 164.0/365.0\n",
    "\n",
    "# risk free rate (there's nuance to this which we'll describe later)\n",
    "r = 0.02\n",
    "\n",
    "# volatility (latent variable which is the topic of this talk)\n",
    "vol = 0.25"
   ]
  },
  {
   "cell_type": "markdown",
   "metadata": {},
   "source": [
    "# What are options?\n",
    "\n",
    "Options are standardized derivatives contracts that convey the buyer the right (but not obligation) to buy the underlying security in the case of a call option or sell the underlying security in the case of a put option at a given price before a given date (for American style options) or on a given date (European style options).\n",
    "\n",
    "There are many types of options of which only a few are available for retail traders. \"Exotics\" exist that are generally large dollar trades (millions of US$) and traded among investment banks. These are generally custom built by quants to help solve a customer's specific financial problem\n",
    "\n",
    "We will focus on plain vanilla, european style, equity options so we can use the famous Black-Scholes pricing formula. More on Black-Scholes a bit later.\n",
    "\n",
    "Most derivatives have a payoff at the end of the life of the contract (expiration). For a call option, the payoff can be expressed simply as:\n",
    "\n",
    "> $$max(S-K, 0)$$\n",
    "\n",
    "While the payoff for a put option can be expressed as:\n",
    "\n",
    "> $$max(K-S, 0)$$\n",
    "\n",
    "Where $S$ and $k$ are defined above. In this case, $K$ remains fixed during the life of a contract.\n",
    "\n",
    "Across a range of potential $S$ values, we can form what is commonly known as the \"payoff profile\" for a call option at expiration.\n",
    "\n",
    "The challenge for quants is to figure out what the price of the option is *before* expiration. This is where option pricing models like Black-Scholes come into play."
   ]
  },
  {
   "cell_type": "code",
   "execution_count": 4,
   "metadata": {
    "collapsed": false
   },
   "outputs": [
    {
     "data": {
      "text/plain": [
       "[<matplotlib.lines.Line2D at 0x17bc4048>]"
      ]
     },
     "execution_count": 4,
     "metadata": {},
     "output_type": "execute_result"
    },
    {
     "data": {
      "image/png": "[encoded data removed]",
      "text/plain": [
       "<matplotlib.figure.Figure at 0x3bd4278>"
      ]
     },
     "metadata": {},
     "output_type": "display_data"
    },
    {
     "data": {
      "image/png": "[encoded data removed]",
      "text/plain": [
       "<matplotlib.figure.Figure at 0x16bd67f0>"
      ]
     },
     "metadata": {},
     "output_type": "display_data"
    }
   ],
   "source": [
    "# use a lambda for a call payoff function\n",
    "# equivelant to:\n",
    "#\n",
    "# def call_payoff(S, k):\n",
    "#     return np.maximum(S - k, 0.0)\n",
    "call_payoff = lambda S, K: np.maximum(S_ - K, 0.0)\n",
    "\n",
    "# and put payoff function\n",
    "put_payoff = lambda S, K: np.maximum(K - S_, 0.0)\n",
    "\n",
    "# plot the call payoff \n",
    "plt.figure(1)\n",
    "plt.plot(S_, call_payoff(S_, K))\n",
    "\n",
    "# plot the put payoff\n",
    "plt.figure(2)\n",
    "plt.plot(S_, put_payoff(S_, K))"
   ]
  },
  {
   "cell_type": "markdown",
   "metadata": {},
   "source": [
    "# What is the Black-Scholes option pricing model?\n",
    "\n",
    "Black-Scholes is largely understood as an options pricing equation but it is really a framework that models a financial market. Within this framework the options pricing equation can be derived. The Black–Scholes model assumes that the market consists of at least one risky asset, usually called the stock, and one riskless asset, usually called the money market, cash, or bond.\n",
    "\n",
    "Assumptions on the market:\n",
    "\n",
    "* The rate of return on the riskless asset is constant and thus called the risk-free interest rate\n",
    "* The instantaneous log returns of the stock price is an infinitesimal random walk with drift or geometric Brownian motion, and we will assume its drift and volatility is constant (if they are time-varying, we can deduce a suitably modified Black–Scholes formula quite simply, as long as the volatility is not random)\n",
    "* The stock does not pay a dividend\n",
    "\n",
    "Assumptions on the underlying security:\n",
    "\n",
    "* There is no arbitrage opportunity (i.e. there is no way to make a riskless profit)\n",
    "* It is possible to borrow and lend any amount, even fractional, of cash at the riskless rate\n",
    "* It is possible to buy and sell any amount, even fractional, of the stock (this includes short selling)\n",
    "* The above transactions do not incur any fees or costs (i.e. frictionless market).\n",
    "\n",
    "As any trader knows, not a single one of these assumptions are actually true in reality. Probably the most imporant is the assumption of constant volatility which motivates this presentation.\n",
    "\n",
    "Assume these assumptions do hold and suppose there is a derivative security also trading in this market. We specify that this security will have a certain payoff at a specified date in the future, depending on the value(s) taken by the stock up to that date. It is a surprising fact that the derivative's price is completely determined at the current time, even though we do not know what path the stock price will take in the future. (These are the payoffs we saw above.) For the special case of a European call or put option, Black and Scholes showed that *\"it is possible to create a hedged position, consisting of a long position in the stock and a short position in the option, whose value will not depend on the price of the stock\"*. Their dynamic hedging strategy led to a partial differential equation which governed the price of the option. Its solution is given by the Black–Scholes formula.\n",
    "\n",
    "Source: https://en.wikipedia.org/wiki/Black%E2%80%93Scholes_model\n"
   ]
  },
  {
   "cell_type": "markdown",
   "metadata": {},
   "source": [
    "# (Some of) the math\n",
    "\n",
    "The famous Black-Scholes equation:\n",
    "\n",
    "> $$\\frac{\\partial V}{\\partial t} + \\frac{1}{2}\\sigma^{2}S^{2}\\frac{\\partial^{2} V}{\\partial S^{2}}+rS\\frac{\\partial V}{\\partial S}-rV=0$$\n",
    "\n",
    "The key financial insight behind the equation is that one can perfectly hedge the option by buying and selling the underlying asset in just the right way and consequently create an arbitrage free environment. This hedge, in turn, implies that there is only one right price for the option, as returned by the Black–Scholes formula. For this dynamic hedging to work, one must continuously hedge the movement in the underlying stock with the option which in reality, is prohibitive due to transaction costs.\n",
    "\n",
    "I'll skip the derivation of the option price from the partial differential equation but the result solves for a call option\n",
    "\n",
    "> $$C(S, t) = N(d_{1})S - N(d_{2})Ke^{-r(T-t)}$$\n",
    "\n",
    "and put option\n",
    "\n",
    "> $$P(S, t) = N(-d_{2})Ke^{-r(T-t)} - N(-d_{1})S$$\n",
    "\n",
    "where\n",
    "\n",
    "> $$d_{1} = \\frac{ln(\\frac{S}{K})+(r+\\frac{\\sigma^{2}}{2})(T-t)}{\\sigma\\sqrt{T-t}}$$\n",
    "\n",
    "and\n",
    "\n",
    "> $$d_{2} = d_{1} - \\sigma\\sqrt{T-t}$$\n",
    "\n",
    "and finally\n",
    "\n",
    "* $N(\\cdot)$ is the cumulative distribution function of the standard normal distribution\n",
    "* $T - t$ is the time to maturity (I use $t$ in the code)\n",
    "* $S$ is the spot price of the underlying asset\n",
    "* $K$ is the strike price\n",
    "* $r$ is the risk free rate (annual rate, expressed in terms of continuous compounding)\n",
    "* $\\sigma$ is the volatility of returns of the underlying asset (I use $vol$ in the code)"
   ]
  },
  {
   "cell_type": "markdown",
   "metadata": {},
   "source": [
    "# Black-Scholes equation in Python\n",
    "\n",
    "Finally, enough math and some code. We'll be using Numpy so we vectorize the function which will help us later."
   ]
  },
  {
   "cell_type": "code",
   "execution_count": 19,
   "metadata": {
    "collapsed": false
   },
   "outputs": [],
   "source": [
    "def N(z):\n",
    "    \"\"\" Normal cumulative density function\n",
    "\n",
    "    :param z: point at which cumulative density is calculated \n",
    "    :return: cumulative density under normal curve\n",
    "    \"\"\"\n",
    "    return norm.cdf(z)\n",
    "\n",
    "\n",
    "def black_scholes_call_value(S, K, r, t, vol):\n",
    "    \"\"\" Black-Scholes call option\n",
    "\n",
    "    :param S: underlying\n",
    "    :param K: strike price\n",
    "    :param r: rate\n",
    "    :param t: time to expiration\n",
    "    :param vol: volatility\n",
    "    :return: BS call option value\n",
    "    \"\"\"\n",
    "    d1 = (1.0/(vol * np.sqrt(t))) * (np.log(S/K) + (r + 0.5 * vol**2.0) * t)\n",
    "    d2 = d1 - (vol * np.sqrt(t))\n",
    "    \n",
    "    return N(d1) * S - N(d2) * K * np.exp(-r * t)\n",
    "\n",
    "def black_scholes_put_value(S, K, r, t, vol):\n",
    "    \"\"\" Black-Scholes put option\n",
    "\n",
    "    :param S: underlying\n",
    "    :param K: strike price\n",
    "    :param r: rate\n",
    "    :param t: time to expiration\n",
    "    :param vol: volatility\n",
    "    :return: BS put option value\n",
    "    \"\"\"\n",
    "    d1 = (1.0/(vol * np.sqrt(t))) * (np.log(S/K) + (r + 0.5 * vol**2.0) * t)\n",
    "    d2 = d1 - (vol * np.sqrt(t))\n",
    "    \n",
    "    return N(-d2) * K * np.exp(-r * t) - N(-d1) * S\n"
   ]
  },
  {
   "cell_type": "code",
   "execution_count": 20,
   "metadata": {
    "collapsed": false
   },
   "outputs": [
    {
     "name": "stdout",
     "output_type": "stream",
     "text": [
      "Black-Scholes call value 3.20\n",
      "Black-Scholes put value 2.79\n"
     ]
    }
   ],
   "source": [
    "print 'Black-Scholes call value %0.2f' % black_scholes_call_value(S, K, r, t, vol)\n",
    "print 'Black-Scholes put value %0.2f' % black_scholes_put_value(S, K, r, t, vol)"
   ]
  },
  {
   "cell_type": "markdown",
   "metadata": {},
   "source": [
    "Because we vectorized the function, we can plot the Black-Scholes call value along a range of underlying stock prices. Going back to our example of the option value at expiration, let's see what it looks like with six, three and one month left to expiration."
   ]
  },
  {
   "cell_type": "code",
   "execution_count": 21,
   "metadata": {
    "collapsed": true
   },
   "outputs": [],
   "source": [
    "# get the value of the option with six months to expiration\n",
    "black_scholes_call_value_six_months = black_scholes_call_value(S_, K, r, 0.5, vol)\n",
    "\n",
    "# get the value of the option with three months to expiration\n",
    "black_scholes_call_value_three_months = black_scholes_call_value(S_, K, r, 0.25, vol)\n",
    "\n",
    "# get the value of the option with one month to expiration\n",
    "black_scholes_call_value_one_month = black_scholes_call_value(S_, K, r, 1.0/12.0, vol)\n",
    "\n",
    "# get payoff value at expiration\n",
    "call_payoff_at_expiration = call_payoff(S_, K)"
   ]
  },
  {
   "cell_type": "code",
   "execution_count": 22,
   "metadata": {
    "collapsed": false
   },
   "outputs": [
    {
     "data": {
      "text/plain": [
       "<matplotlib.legend.Legend at 0x1872ae48>"
      ]
     },
     "execution_count": 22,
     "metadata": {},
     "output_type": "execute_result"
    },
    {
     "data": {
      "image/png": "[encoded data removed]",
      "text/plain": [
       "<matplotlib.figure.Figure at 0x17c38390>"
      ]
     },
     "metadata": {},
     "output_type": "display_data"
    }
   ],
   "source": [
    "# plot the call payoffs\n",
    "plt.figure(3)\n",
    "plt.plot(S_, black_scholes_call_value_six_months)\n",
    "plt.plot(S_, black_scholes_call_value_three_months)\n",
    "plt.plot(S_, black_scholes_call_value_one_month)\n",
    "plt.plot(S_, call_payoff_at_expiration)\n",
    "plt.legend(['t=0.5', 't=0.25', 't=0.083', 't=0'], loc=2)"
   ]
  },
  {
   "cell_type": "markdown",
   "metadata": {},
   "source": [
    "As you can see from the plot above, as the time to expiration decreases, the value of the option collapses towards the payoff value."
   ]
  },
  {
   "cell_type": "markdown",
   "metadata": {},
   "source": [
    "# The Greeks\n",
    "\n",
    "A discussion about Black-Scholes would not be complete without a discussion of the Greeks. In mathematical terms, the Greeks are simply the partial derivatives of the option pricing formula. In other words, these are the sensitivities in the movement of the option price relative to the movement of other aspects of the input variables.\n",
    "\n",
    "Because of the assumptions required for the Black-Scholes to hold true, the plain vanilla formula presented above is not usually used for pricing options. It is however, largely used for understanding the sensitivities of the option with respect to it's variables. The most common Greeks are as follows.\n",
    "\n",
    "* **Delta**. Partial derivative of the option value with respect to the change in the underlying stock price. Delta measures how the underlying option moves with respect to moves in the underlying stock. The formula for delta is different for calls and puts.\n",
    "\n",
    "> Call delta\n",
    "> $$\\frac{\\partial V}{\\partial S} = N(d_{1})$$\n",
    "\n",
    "> Put delta\n",
    "> $$\\frac{\\partial V}{\\partial S} = N(d_{1})-1$$\n",
    "\n",
    "* **Gamma**. Second partial derivative of the option value with respect to the change in the underlying stock price. Gamma measures movements in delta or the convexity in the value of the option with respect to the underlying.\n",
    "\n",
    "> Gamma (same for call and put)\n",
    "> $$\\frac{\\partial^2 V}{\\partial S^2} = \\frac{\\phi(d_{1})}{S\\sigma \\sqrt{T-t}}$$\n",
    "\n",
    "* **Vega**. Partial derivative of the option value with respect to the change in the volatility of the underling. Vega measures how the option price moves with respect to the volatility of the underlying. (Note vega is not a real greek letter.)\n",
    "\n",
    "> Vega (same for call and put)\n",
    "> $$\\frac{\\partial V}{\\partial \\sigma} = S\\phi(d_{1}) \\sqrt{T-t}$$\n",
    "\n",
    "* **Theta**. Partial derivative of the option value with respect to the change in time. Theta measures how the value of the option decays as time passes. This was demonstrated in the plot above.\n",
    "\n",
    "> Call theta\n",
    "> $$\\frac{\\partial V}{\\partial t} = -\\frac{S\\phi(d_{1})\\sigma}{2\\sqrt{T-t}} -rKe^{-r(T-t)}N(d_2)$$\n",
    "\n",
    "> Put theta\n",
    "> $$\\frac{\\partial V}{\\partial t} = -\\frac{S\\phi(d_{1})\\sigma}{2\\sqrt{T-t}} +rKe^{-r(T-t)}N(-d_2)$$\n",
    "\n",
    "* **Rho**. Partial derivative of the option value with respect to change in the risk-free interest rate. Rho measures how the option value changes as the interest rate changes.\n",
    "\n",
    "> Call rho\n",
    "> $$\\frac{\\partial V}{\\partial r} = K(T-t)e^{-r(T-t)}N(d_2)$$\n",
    "\n",
    "> Put rho\n",
    "> $$\\frac{\\partial V}{\\partial r} = -K(T-t)e^{-r(T-t)}N(-d_2)$$\n",
    "\n",
    "Where $\\phi$\n",
    "\n",
    "> $$\\phi(x) = \\frac{e^{-\\frac{x^2}{2}}}{\\sqrt{2\\pi}}$$\n",
    "\n",
    "and $N(\\cdot)$, $d_1$ and $d_2$ are defined above."
   ]
  },
  {
   "cell_type": "markdown",
   "metadata": {},
   "source": [
    "# The greeks in Python\n",
    "\n",
    "Although we won't be discussing the greeks any further in this talk, let's code them up for completeness."
   ]
  },
  {
   "cell_type": "code",
   "execution_count": 23,
   "metadata": {
    "collapsed": true
   },
   "outputs": [],
   "source": [
    "def phi(x):\n",
    "    \"\"\" Phi helper function\n",
    "    \n",
    "    \"\"\"\n",
    "    return np.exp(-0.5 * x * x) / (sqrt(2.0 * pi))\n",
    "\n",
    "def call_delta(S, K, r, t, vol):\n",
    "    \"\"\" Black-Scholes call delta\n",
    "    \n",
    "    :param S: underlying\n",
    "    :param K: strike price\n",
    "    :param r: rate\n",
    "    :param t: time to expiration\n",
    "    :param vol: volatility\n",
    "    :return: call delta\n",
    "    \"\"\"\n",
    "    d1 = (1.0/(vol * np.sqrt(t))) * (np.log(S/K) + (r + 0.5 * vol**2.0) * t)\n",
    "    \n",
    "    return N(d1)\n",
    "\n",
    "def put_delta(S, K, r, t, vol):\n",
    "    \"\"\" Black-Scholes put delta\n",
    "    \n",
    "    :param S: underlying\n",
    "    :param K: strike price\n",
    "    :param r: rate\n",
    "    :param t: time to expiration\n",
    "    :param vol: volatility\n",
    "    :return: put delta\n",
    "    \"\"\"\n",
    "    d1 = (1.0/(vol * np.sqrt(t))) * (np.log(S/K) + (r + 0.5 * vol**2.0) * t)\n",
    "    \n",
    "    return N(d1) - 1.0\n",
    "\n",
    "def gamma(S, K, r, t, vol):\n",
    "    \"\"\" Black-Scholes gamma\n",
    "    \n",
    "    :param S: underlying\n",
    "    :param K: strike price\n",
    "    :param r: rate\n",
    "    :param t: time to expiration\n",
    "    :param vol: volatility\n",
    "    :return: gamma\n",
    "    \"\"\"\n",
    "    d1 = (1.0/(vol * np.sqrt(t))) * (np.log(S/K) + (r + 0.5 * vol**2.0) * t)\n",
    "    \n",
    "    return phi(d1) / (S * vol * sqrt(t))\n",
    "\n",
    "def vega(S, K, r, t, vol):\n",
    "    \"\"\" Black-Scholes vega\n",
    "    \n",
    "    :param S: underlying\n",
    "    :param K: strike price\n",
    "    :param r: rate\n",
    "    :param t: time to expiration\n",
    "    :param vol: volatility\n",
    "    :return: vega\n",
    "    \"\"\"\n",
    "    d1 = (1.0/(vol * np.sqrt(t))) * (np.log(S/K) + (r + 0.5 * vol**2.0) * t)\n",
    "    \n",
    "    return (S * phi(d1) * sqrt(t)) / 100.0\n",
    "\n",
    "def call_theta(S, K, r, t, vol):\n",
    "    \"\"\" Black-Scholes call theta\n",
    "    \n",
    "    :param S: underlying\n",
    "    :param K: strike price\n",
    "    :param r: rate\n",
    "    :param t: time to expiration\n",
    "    :param vol: volatility\n",
    "    :return: call theta\n",
    "    \"\"\"\n",
    "    d1 = (1.0/(vol * np.sqrt(t))) * (np.log(S/K) + (r + 0.5 * vol**2.0) * t)\n",
    "    d2 = d1 - (vol * np.sqrt(t))\n",
    "    \n",
    "    theta = -((S * phi(d1) * vol) / (2.0 * np.sqrt(t))) - (r * K * np.exp(-r * t) * N(d2))\n",
    "    return theta / 365.0\n",
    "\n",
    "def put_theta(S, K, r, t, vol):\n",
    "    \"\"\" Black-Scholes put theta\n",
    "    \n",
    "    :param S: underlying\n",
    "    :param K: strike price\n",
    "    :param r: rate\n",
    "    :param t: time to expiration\n",
    "    :param vol: volatility\n",
    "    :return: put theta\n",
    "    \"\"\"\n",
    "    d1 = (1.0/(vol * np.sqrt(t))) * (np.log(S/K) + (r + 0.5 * vol**2.0) * t)\n",
    "    d2 = d1 - (vol * np.sqrt(t))\n",
    "    \n",
    "    theta = -((S * phi(d1) * vol) / (2.0 * np.sqrt(t))) + (r * K * np.exp(-r * t) * N(-d2))\n",
    "    return theta / 365.0\n",
    "\n",
    "def call_rho(S, K, r, t, vol):\n",
    "    \"\"\" Black-Scholes call rho\n",
    "    \n",
    "    :param S: underlying\n",
    "    :param K: strike price\n",
    "    :param r: rate\n",
    "    :param t: time to expiration\n",
    "    :param vol: volatility\n",
    "    :return: call rho\n",
    "    \"\"\"\n",
    "    d1 = (1.0/(vol * np.sqrt(t))) * (np.log(S/K) + (r + 0.5 * vol**2.0) * t)\n",
    "    d2 = d1 - (vol * np.sqrt(t))\n",
    "    \n",
    "    rho = K * t * np.exp(-r * t) * N(d2)\n",
    "    return rho / 100.0\n",
    "\n",
    "def put_rho(S, K, r, t, vol):\n",
    "    \"\"\" Black-Scholes put rho\n",
    "    \n",
    "    :param S: underlying\n",
    "    :param K: strike price\n",
    "    :param r: rate\n",
    "    :param t: time to expiration\n",
    "    :param vol: volatility\n",
    "    :return: put rho\n",
    "    \"\"\"\n",
    "    d1 = (1.0/(vol * np.sqrt(t))) * (np.log(S/K) + (r + 0.5 * vol**2.0) * t)\n",
    "    d2 = d1 - (vol * np.sqrt(t))\n",
    "    \n",
    "    rho = -K * t * np.exp(-r * t) * N(-d2)\n",
    "    return rho / 100.0"
   ]
  },
  {
   "cell_type": "code",
   "execution_count": 24,
   "metadata": {
    "collapsed": false
   },
   "outputs": [
    {
     "name": "stdout",
     "output_type": "stream",
     "text": [
      "Black-Scholes call delta 0.5546\n",
      "Black-Scholes put delta -0.4454\n",
      "Black-Scholes gamma 0.0524\n",
      "Black-Scholes vega 0.1192\n",
      "Black-Scholes call theta -0.0103\n",
      "Black-Scholes put theta -0.0078\n",
      "Black-Scholes call rho 0.0978\n",
      "Black-Scholes put rho -0.1026\n"
     ]
    }
   ],
   "source": [
    "# print each of the results\n",
    "print 'Black-Scholes call delta %0.4f' % call_delta(S, K, r, t, vol)\n",
    "print 'Black-Scholes put delta %0.4f' % put_delta(S, K, r, t, vol)\n",
    "print 'Black-Scholes gamma %0.4f' % gamma(S, K, r, t, vol)\n",
    "print 'Black-Scholes vega %0.4f' % vega(S, K, r, t, vol)\n",
    "print 'Black-Scholes call theta %0.4f' % call_theta(S, K, r, t, vol)\n",
    "print 'Black-Scholes put theta %0.4f' % put_theta(S, K, r, t, vol)\n",
    "print 'Black-Scholes call rho %0.4f' % call_rho(S, K, r, t, vol)\n",
    "print 'Black-Scholes put rho %0.4f' % put_rho(S, K, r, t, vol)"
   ]
  },
  {
   "cell_type": "markdown",
   "metadata": {},
   "source": [
    "# Implied volatility\n",
    "\n",
    "The Black-Scholes pricing model is usually used to solve for implied volatility. Quite simply, this means setting the Black-Scholes equation equal to a market observed price and using a root finding algorithm to solve for the volatility parameter which sets the difference (between model and market price) to zero.\n",
    "\n",
    "The implied volatility is used for making trading decisions, calibrating other more exotic securities and researching market anomolies. For example, many traders use the so called volatility skew to understand the relative value of an option to other options trading in the market. We'll see examples of the skew later.\n",
    "\n",
    "In the first of a two part [blog](http://www.bespokeoptions.com/blog/2015/10/06/implied-volatility-with-c-and-python-pt-1) series, I've discussed how to use C++ to find implied volatility. Here, we will use pure Python.\n",
    "\n",
    "First we create an objective function which we'll pass to the Scipy implementation of the [Brentq algorithm](http://docs.scipy.org/doc/scipy-0.14.0/reference/generated/scipy.optimize.brentq.html). Then we'll create an implied volatilty function to return the volatility parameter that sets the observed market price to the model price."
   ]
  },
  {
   "cell_type": "code",
   "execution_count": 25,
   "metadata": {
    "collapsed": true
   },
   "outputs": [],
   "source": [
    "def call_implied_volatility_objective_function(S, K, r, t, vol, call_option_market_price):\n",
    "    \"\"\" Objective function which sets market and model prices to zero\n",
    "    \n",
    "    :param S: underlying\n",
    "    :param K: strike price\n",
    "    :param r: rate\n",
    "    :param t: time to expiration\n",
    "    :param vol: volatility\n",
    "    :param call_option_market_price: market observed option price\n",
    "    :return: error between market and model price\n",
    "    \"\"\"\n",
    "    return call_option_market_price - black_scholes_call_value(S, K, r, t, vol)\n",
    "\n",
    "def call_implied_volatility(S, K, r, t, call_option_market_price, a=-2.0, b=2.0, xtol=1e-6):\n",
    "    \"\"\" Call implied volatility function\n",
    "    \n",
    "    :param S: underlying\n",
    "    :param K: strike price\n",
    "    :param r: rate\n",
    "    :param t: time to expiration\n",
    "    :param call_option_market_price: market observed option price\n",
    "    :param a: lower bound for brentq method\n",
    "    :param b: upper gound for brentq method\n",
    "    :param xtol: tolerance which is considered good enough\n",
    "    :return: volatility to sets the difference between market and model price to zero\n",
    "    \n",
    "    \"\"\"\n",
    "    \n",
    "    # avoid mirroring out scope  \n",
    "    _S, _K, _r, _t, _call_option_market_price = S, K, r, t, call_option_market_price\n",
    "    \n",
    "    # define a nested function that takes our target param as the input\n",
    "    def fcn(vol):\n",
    "        \n",
    "        # returns the difference between market and model price at given volatility\n",
    "        return call_implied_volatility_objective_function(_S, _K, _r, _t, vol, _call_option_market_price)\n",
    "    \n",
    "    # first we try to return the results from the brentq algorithm\n",
    "    try:\n",
    "        result = brentq(fcn, a=a, b=b, xtol=xtol)\n",
    "        \n",
    "        # if the results are *too* small, sent to np.nan so we can later interpolate\n",
    "        return np.nan if result <= 1.0e-6 else result\n",
    "    \n",
    "    # if it fails then we return np.nan so we can later interpolate the results\n",
    "    except ValueError:\n",
    "        return np.nan\n",
    "\n",
    "def put_implied_volatility_objective_function(S, K, r, t, vol, put_option_market_price):\n",
    "    \"\"\" Objective function which sets market and model prices to zero\n",
    "    \n",
    "    :param S: underlying\n",
    "    :param K: strike price\n",
    "    :param r: rate\n",
    "    :param t: time to expiration\n",
    "    :param vol: volatility\n",
    "    :param call_option_market_price: market observed option price\n",
    "    :return: error between market and model price\n",
    "    \"\"\"\n",
    "    return put_option_market_price - black_scholes_put_value(S, K, r, t, vol)\n",
    "\n",
    "def put_implied_volatility(S, K, r, t, put_option_market_price, a=-2.0, b=2.0, xtol=1e-6):\n",
    "    \"\"\" Put implied volatility function\n",
    "    \n",
    "    :param S: underlying\n",
    "    :param K: strike price\n",
    "    :param r: rate\n",
    "    :param t: time to expiration\n",
    "    :param call_option_market_price: market observed option price\n",
    "    :param a: lower bound for brentq method\n",
    "    :param b: upper gound for brentq method\n",
    "    :param xtol: tolerance which is considered good enough\n",
    "    :return: volatility to sets the difference between market and model price to zero\n",
    "    \n",
    "    \"\"\"\n",
    "    \n",
    "    # avoid mirroring out scope  \n",
    "    _S, _K, _r, _t, _put_option_market_price = S, K, r, t, put_option_market_price\n",
    "    \n",
    "    # define a nsted function that takes our target param as the input\n",
    "    def fcn(vol):\n",
    "        \n",
    "        # returns the difference between market and model price at given volatility\n",
    "        return put_implied_volatility_objective_function(_S, _K, _r, _t, vol, _put_option_market_price)\n",
    "    \n",
    "    # first we try to return the results from the brentq algorithm\n",
    "    try:\n",
    "        result = brentq(fcn, a=a, b=b, xtol=xtol)\n",
    "        \n",
    "        # if the results are *too* small, sent to np.nan so we can later interpolate\n",
    "        return np.nan if result <= 1.0e-6 else result\n",
    "    \n",
    "    # if it fails then we return np.nan so we can later interpolate the results\n",
    "    except ValueError:\n",
    "        return np.nan"
   ]
  },
  {
   "cell_type": "code",
   "execution_count": 27,
   "metadata": {
    "collapsed": false
   },
   "outputs": [
    {
     "name": "stdout",
     "output_type": "stream",
     "text": [
      "Call implied volatility if market and model were equal (should be close to 0.25) 0.250000\n",
      "Put implied volatility if market and model were equal (should be close to 0.25) 0.250000\n"
     ]
    }
   ],
   "source": [
    "# get the \n",
    "call_model_price = black_scholes_call_value(S, K, r, t, vol)\n",
    "print 'Call implied volatility if market and model were equal (should be close to 0.25) %0.6f' % call_implied_volatility(S, K, r, t, call_model_price)\n",
    "\n",
    "put_model_price = black_scholes_put_value(S, K, r, t, vol)\n",
    "print 'Put implied volatility if market and model were equal (should be close to 0.25) %0.6f' % put_implied_volatility(S, K, r, t, put_model_price)"
   ]
  },
  {
   "cell_type": "markdown",
   "metadata": {},
   "source": [
    "# Getting real options market data\n",
    "\n",
    "With the excellent [Pandas](http://pandas.pydata.org/) library (you are using Pandas, right?) we can grab entire options chains directly from Yahoo!. This is slow (it has to scrape several pages), but very useful. Chains include all options of all strikes for all expirations for a particular underlying stock.\n",
    "\n",
    "The chains are returned in a very handy `MultiIndex pandas.DataFrame` object. Let's see how this works."
   ]
  },
  {
   "cell_type": "code",
   "execution_count": 28,
   "metadata": {
    "collapsed": false
   },
   "outputs": [],
   "source": [
    "# define a stock symbol\n",
    "underlying_symbol = 'IBM'\n",
    "\n",
    "# define a Options object\n",
    "options_obj = pd.Options('IBM', 'yahoo')\n",
    "\n",
    "# request all chains for the underlying symbol\n",
    "# ***WARNING THIS TAKES A WHILE***\n",
    "options_frame_live = options_obj.get_all_data()\n",
    "\n",
    "# let's pickle the dataframe so we don't have to hit the network every time\n",
    "options_frame_live.to_pickle('options_frame.pickle')"
   ]
  },
  {
   "cell_type": "code",
   "execution_count": 29,
   "metadata": {
    "collapsed": true
   },
   "outputs": [],
   "source": [
    "# read the original frame in from cache (pickle)\n",
    "options_frame = pandas.read_pickle('options_frame.pickle')"
   ]
  },
  {
   "cell_type": "code",
   "execution_count": 30,
   "metadata": {
    "collapsed": false
   },
   "outputs": [
    {
     "name": "stdout",
     "output_type": "stream",
     "text": [
      "<class 'pandas.core.frame.DataFrame'>\n",
      "MultiIndex: 570 entries, (70.0, 2016-07-15 00:00:00, put, IBM160715P00070000) to (290.0, 2016-01-15 00:00:00, put, IBM160115P00290000)\n",
      "Data columns (total 13 columns):\n",
      "Last                570 non-null float64\n",
      "Bid                 570 non-null float64\n",
      "Ask                 570 non-null float64\n",
      "Chg                 570 non-null float64\n",
      "PctChg              570 non-null object\n",
      "Vol                 570 non-null int64\n",
      "Open_Int            570 non-null int64\n",
      "IV                  570 non-null object\n",
      "Root                570 non-null object\n",
      "IsNonstandard       570 non-null bool\n",
      "Underlying          570 non-null object\n",
      "Underlying_Price    570 non-null float64\n",
      "Quote_Time          570 non-null datetime64[ns]\n",
      "dtypes: bool(1), datetime64[ns](1), float64(5), int64(2), object(4)\n",
      "memory usage: 58.4+ KB\n"
     ]
    }
   ],
   "source": [
    "# take a quick look at the DataFrame that returned\n",
    "options_frame.info()"
   ]
  },
  {
   "cell_type": "code",
   "execution_count": 31,
   "metadata": {
    "collapsed": false
   },
   "outputs": [
    {
     "data": {
      "text/html": [
       "<div>\n",
       "<table border=\"1\" class=\"dataframe\">\n",
       "  <thead>\n",
       "    <tr style=\"text-align: right;\">\n",
       "      <th></th>\n",
       "      <th></th>\n",
       "      <th></th>\n",
       "      <th></th>\n",
       "      <th>Last</th>\n",
       "      <th>Bid</th>\n",
       "      <th>Ask</th>\n",
       "      <th>Chg</th>\n",
       "      <th>PctChg</th>\n",
       "      <th>Vol</th>\n",
       "      <th>Open_Int</th>\n",
       "      <th>IV</th>\n",
       "      <th>Root</th>\n",
       "      <th>IsNonstandard</th>\n",
       "      <th>Underlying</th>\n",
       "      <th>Underlying_Price</th>\n",
       "      <th>Quote_Time</th>\n",
       "    </tr>\n",
       "    <tr>\n",
       "      <th>Strike</th>\n",
       "      <th>Expiry</th>\n",
       "      <th>Type</th>\n",
       "      <th>Symbol</th>\n",
       "      <th></th>\n",
       "      <th></th>\n",
       "      <th></th>\n",
       "      <th></th>\n",
       "      <th></th>\n",
       "      <th></th>\n",
       "      <th></th>\n",
       "      <th></th>\n",
       "      <th></th>\n",
       "      <th></th>\n",
       "      <th></th>\n",
       "      <th></th>\n",
       "      <th></th>\n",
       "    </tr>\n",
       "  </thead>\n",
       "  <tbody>\n",
       "    <tr>\n",
       "      <th rowspan=\"4\" valign=\"top\">70</th>\n",
       "      <th>2016-07-15</th>\n",
       "      <th>put</th>\n",
       "      <th>IBM160715P00070000</th>\n",
       "      <td>0.22</td>\n",
       "      <td>0.18</td>\n",
       "      <td>0.35</td>\n",
       "      <td>0</td>\n",
       "      <td>0.00%</td>\n",
       "      <td>10</td>\n",
       "      <td>0</td>\n",
       "      <td>46.46%</td>\n",
       "      <td>IBM</td>\n",
       "      <td>False</td>\n",
       "      <td>IBM</td>\n",
       "      <td>131.63</td>\n",
       "      <td>2016-01-11 16:02:00</td>\n",
       "    </tr>\n",
       "    <tr>\n",
       "      <th>2017-01-20</th>\n",
       "      <th>put</th>\n",
       "      <th>IBM170120P00070000</th>\n",
       "      <td>0.75</td>\n",
       "      <td>0.80</td>\n",
       "      <td>1.00</td>\n",
       "      <td>0</td>\n",
       "      <td>0.00%</td>\n",
       "      <td>1</td>\n",
       "      <td>0</td>\n",
       "      <td>40.09%</td>\n",
       "      <td>IBM</td>\n",
       "      <td>False</td>\n",
       "      <td>IBM</td>\n",
       "      <td>131.63</td>\n",
       "      <td>2016-01-11 16:02:00</td>\n",
       "    </tr>\n",
       "    <tr>\n",
       "      <th rowspan=\"2\" valign=\"top\">2018-01-19</th>\n",
       "      <th>call</th>\n",
       "      <th>IBM180119C00070000</th>\n",
       "      <td>65.95</td>\n",
       "      <td>59.40</td>\n",
       "      <td>64.00</td>\n",
       "      <td>0</td>\n",
       "      <td>0.00%</td>\n",
       "      <td>4</td>\n",
       "      <td>0</td>\n",
       "      <td>35.30%</td>\n",
       "      <td>IBM</td>\n",
       "      <td>False</td>\n",
       "      <td>IBM</td>\n",
       "      <td>131.63</td>\n",
       "      <td>2016-01-11 16:02:00</td>\n",
       "    </tr>\n",
       "    <tr>\n",
       "      <th>put</th>\n",
       "      <th>IBM180119P00070000</th>\n",
       "      <td>1.98</td>\n",
       "      <td>1.80</td>\n",
       "      <td>2.23</td>\n",
       "      <td>0</td>\n",
       "      <td>0.00%</td>\n",
       "      <td>4</td>\n",
       "      <td>0</td>\n",
       "      <td>34.78%</td>\n",
       "      <td>IBM</td>\n",
       "      <td>False</td>\n",
       "      <td>IBM</td>\n",
       "      <td>131.63</td>\n",
       "      <td>2016-01-11 16:02:00</td>\n",
       "    </tr>\n",
       "    <tr>\n",
       "      <th>75</th>\n",
       "      <th>2016-07-15</th>\n",
       "      <th>put</th>\n",
       "      <th>IBM160715P00075000</th>\n",
       "      <td>0.40</td>\n",
       "      <td>0.26</td>\n",
       "      <td>0.44</td>\n",
       "      <td>0</td>\n",
       "      <td>0.00%</td>\n",
       "      <td>3</td>\n",
       "      <td>0</td>\n",
       "      <td>43.68%</td>\n",
       "      <td>IBM</td>\n",
       "      <td>False</td>\n",
       "      <td>IBM</td>\n",
       "      <td>131.63</td>\n",
       "      <td>2016-01-11 16:02:00</td>\n",
       "    </tr>\n",
       "  </tbody>\n",
       "</table>\n",
       "</div>"
      ],
      "text/plain": [
       "                                            Last    Bid    Ask  Chg PctChg  \\\n",
       "Strike Expiry     Type Symbol                                                \n",
       "70     2016-07-15 put  IBM160715P00070000   0.22   0.18   0.35    0  0.00%   \n",
       "       2017-01-20 put  IBM170120P00070000   0.75   0.80   1.00    0  0.00%   \n",
       "       2018-01-19 call IBM180119C00070000  65.95  59.40  64.00    0  0.00%   \n",
       "                  put  IBM180119P00070000   1.98   1.80   2.23    0  0.00%   \n",
       "75     2016-07-15 put  IBM160715P00075000   0.40   0.26   0.44    0  0.00%   \n",
       "\n",
       "                                           Vol  Open_Int      IV Root  \\\n",
       "Strike Expiry     Type Symbol                                           \n",
       "70     2016-07-15 put  IBM160715P00070000   10         0  46.46%  IBM   \n",
       "       2017-01-20 put  IBM170120P00070000    1         0  40.09%  IBM   \n",
       "       2018-01-19 call IBM180119C00070000    4         0  35.30%  IBM   \n",
       "                  put  IBM180119P00070000    4         0  34.78%  IBM   \n",
       "75     2016-07-15 put  IBM160715P00075000    3         0  43.68%  IBM   \n",
       "\n",
       "                                          IsNonstandard Underlying  \\\n",
       "Strike Expiry     Type Symbol                                        \n",
       "70     2016-07-15 put  IBM160715P00070000         False        IBM   \n",
       "       2017-01-20 put  IBM170120P00070000         False        IBM   \n",
       "       2018-01-19 call IBM180119C00070000         False        IBM   \n",
       "                  put  IBM180119P00070000         False        IBM   \n",
       "75     2016-07-15 put  IBM160715P00075000         False        IBM   \n",
       "\n",
       "                                           Underlying_Price  \\\n",
       "Strike Expiry     Type Symbol                                 \n",
       "70     2016-07-15 put  IBM160715P00070000            131.63   \n",
       "       2017-01-20 put  IBM170120P00070000            131.63   \n",
       "       2018-01-19 call IBM180119C00070000            131.63   \n",
       "                  put  IBM180119P00070000            131.63   \n",
       "75     2016-07-15 put  IBM160715P00075000            131.63   \n",
       "\n",
       "                                                   Quote_Time  \n",
       "Strike Expiry     Type Symbol                                  \n",
       "70     2016-07-15 put  IBM160715P00070000 2016-01-11 16:02:00  \n",
       "       2017-01-20 put  IBM170120P00070000 2016-01-11 16:02:00  \n",
       "       2018-01-19 call IBM180119C00070000 2016-01-11 16:02:00  \n",
       "                  put  IBM180119P00070000 2016-01-11 16:02:00  \n",
       "75     2016-07-15 put  IBM160715P00075000 2016-01-11 16:02:00  "
      ]
     },
     "execution_count": 31,
     "metadata": {},
     "output_type": "execute_result"
    }
   ],
   "source": [
    "# and the first ten records\n",
    "options_frame.head()"
   ]
  },
  {
   "cell_type": "markdown",
   "metadata": {},
   "source": [
    "We're going to do some work to the `DataFrame` so that we can apply the Black-Scholes price and implied volatility to each of the options. So first let's do some clean up."
   ]
  },
  {
   "cell_type": "code",
   "execution_count": 32,
   "metadata": {
    "collapsed": false
   },
   "outputs": [],
   "source": [
    "# reset the index so the strike and expiration become columns\n",
    "options_frame.reset_index(inplace=True)\n",
    "\n",
    "# remove PctChg and IV - we'll calculate our own\n",
    "del options_frame['PctChg']\n",
    "del options_frame['IV']\n",
    "\n",
    "# rename the columns for consistency\n",
    "columns = {'Expiry': 'Expiration',\n",
    "           'Type': 'OptionType',\n",
    "           'Symbol': 'OptionSymbol',\n",
    "           'Vol': 'Volume',\n",
    "           'Open_Int': 'OpenInterest',\n",
    "           'Underlying_Price': 'UnderlyingPrice',\n",
    "           'Quote_Time': 'QuoteDatetime',\n",
    "           'Underlying': 'UnderlyingSymbol',\n",
    "           'Chg': 'OptionChange'}\n",
    "\n",
    "options_frame.rename(columns=columns, inplace=True)"
   ]
  },
  {
   "cell_type": "markdown",
   "metadata": {},
   "source": [
    "Let's define some helper functions that we will apply to the `DataFrame`. These will provide some of the inputs to the option valuation functions."
   ]
  },
  {
   "cell_type": "code",
   "execution_count": 41,
   "metadata": {
    "collapsed": true
   },
   "outputs": [],
   "source": [
    "def _get_days_until_expiration(series):\n",
    "    \"\"\" Return the number of days until expiration\n",
    "\n",
    "    :param series: row of the dataframe, accessible by label\n",
    "    :return: days until expiration\n",
    "\n",
    "    \"\"\"\n",
    "    \n",
    "    expiration = series['Expiration']\n",
    "    \n",
    "    # add the hours to the expiration date so we get the math correct\n",
    "    date_str = expiration.strftime('%Y-%m-%d') + ' 23:59:59'\n",
    "    \n",
    "    # convert date string into datetime object\n",
    "    expiry = dt.datetime.strptime(date_str, \"%Y-%m-%d %H:%M:%S\")\n",
    "    \n",
    "    # get today\n",
    "    today = dt.datetime.today()\n",
    "    \n",
    "    # return the difference and add one to count for today\n",
    "    return (expiry - today).days + 1\n",
    "\n",
    "def _get_time_fraction_until_expiration(series):\n",
    "    \"\"\" Return the fraction of a year until expiration\n",
    "\n",
    "    :param series: row of the dataframe, accessible by label\n",
    "    :return: fraction of a year until expiration\n",
    "\n",
    "    \"\"\"\n",
    "\n",
    "    expiration = series['Expiration']\n",
    "\n",
    "    # add the hours to the expiration date so we get the math correct\n",
    "    date_str = expiration.strftime('%Y-%m-%d') + ' 23:59:59'\n",
    "    \n",
    "    # convert date string into datetime object\n",
    "    time_tuple = time.strptime(date_str, \"%Y-%m-%d %H:%M:%S\")\n",
    "    \n",
    "    # get the number of seconds from the epoch until expiration\n",
    "    expiry_in_seconds_from_epoch = time.mktime(time_tuple)\n",
    "    \n",
    "    # get the number of seconds from the epoch to right now\n",
    "    right_now_in_seconds_from_epoch = time.time()\n",
    "    \n",
    "    # get the total number of seconds to expiration\n",
    "    seconds_until_expiration = expiry_in_seconds_from_epoch - right_now_in_seconds_from_epoch\n",
    "    \n",
    "    # seconds in year\n",
    "    seconds_in_year = 31536000.0\n",
    "    \n",
    "    # fraction of seconds to expiration to total in year, rounded\n",
    "    return max(seconds_until_expiration / seconds_in_year, 1e-10)\n",
    "\n",
    "# define terms and associated rates, these should coincide with our options\n",
    "terms = [30, 3 * 30, 6 * 30, 12 * 30, 24 * 30, 36 * 30, 60 * 30]\n",
    "rates = [0.0001, 0.0009, 0.0032, 0.0067, 0.0097, 0.0144, 0.0184]\n",
    "\n",
    "def _get_rate(series):\n",
    "    \"\"\" Interpolate rates out to 30 years\n",
    "        Note computing rates like this is not strictly theoretically \n",
    "        correct but works for illustrative purposes\n",
    "    \n",
    "    :param series: row of the dataframe, accessable by label\n",
    "    :return interpolated interest rate based on term structure\n",
    "\n",
    "    \"\"\"\n",
    "    days = series['DaysUntilExpiration']\n",
    "    \n",
    "    # generate terms for every thirty days up until our longest expiration\n",
    "    new_terms = [i for i in range(30, (60 * 30) + 1)]\n",
    "    \n",
    "    # create linear interpolation model\n",
    "    f = interp1d(terms, rates, kind='linear')\n",
    "    \n",
    "    # interpolate the values based on the new terms we created above\n",
    "    ff = f(new_terms)\n",
    "    \n",
    "    # return the interpolated rate given the days to expiration\n",
    "    return round(ff[max(days, 30) - 30], 8)\n",
    "\n",
    "def _get_mid(series):\n",
    "    \"\"\" Get the mid price between bid and ask\n",
    "    \n",
    "    :param series: row of the dataframe, accessable by label\n",
    "    :return mid price\n",
    "\n",
    "    \"\"\"\n",
    "    bid = series['Bid']\n",
    "    ask = series['Ask']\n",
    "    last = series['Last']\n",
    "    \n",
    "    # if the bid or ask doesn't exist, return 0.0\n",
    "    if np.isnan(ask) or np.isnan(bid):\n",
    "        return 0.0\n",
    "    \n",
    "    # if the bid or ask are 0.0, return the last traded price\n",
    "    elif ask == 0.0 or bid == 0.0:\n",
    "        return last\n",
    "    else:\n",
    "        return (ask + bid) / 2.0"
   ]
  },
  {
   "cell_type": "markdown",
   "metadata": {},
   "source": [
    "We can apply these functions to each row of the `DataFrame` by setting the `axis` argument to `1` `apply` method."
   ]
  },
  {
   "cell_type": "code",
   "execution_count": 42,
   "metadata": {
    "collapsed": false
   },
   "outputs": [],
   "source": [
    "# use the apply method to pass each row as a series to the various methods, returns a series in this case\n",
    "options_frame['DaysUntilExpiration'] = options_frame.apply(_get_days_until_expiration, axis=1)\n",
    "options_frame['TimeUntilExpiration'] = options_frame.apply(_get_time_fraction_until_expiration, axis=1)\n",
    "options_frame['InterestRate'] = options_frame.apply(_get_rate, axis=1)\n",
    "options_frame['Mid'] = options_frame.apply(_get_mid, axis=1)"
   ]
  },
  {
   "cell_type": "markdown",
   "metadata": {},
   "source": [
    "Let's see what we've done."
   ]
  },
  {
   "cell_type": "code",
   "execution_count": 43,
   "metadata": {
    "collapsed": false
   },
   "outputs": [
    {
     "name": "stdout",
     "output_type": "stream",
     "text": [
      "<class 'pandas.core.frame.DataFrame'>\n",
      "Int64Index: 570 entries, 0 to 569\n",
      "Data columns (total 19 columns):\n",
      "Strike                 570 non-null float64\n",
      "Expiration             570 non-null datetime64[ns]\n",
      "OptionType             570 non-null object\n",
      "OptionSymbol           570 non-null object\n",
      "Last                   570 non-null float64\n",
      "Bid                    570 non-null float64\n",
      "Ask                    570 non-null float64\n",
      "OptionChange           570 non-null float64\n",
      "Volume                 570 non-null int64\n",
      "OpenInterest           570 non-null int64\n",
      "Root                   570 non-null object\n",
      "IsNonstandard          570 non-null bool\n",
      "UnderlyingSymbol       570 non-null object\n",
      "UnderlyingPrice        570 non-null float64\n",
      "QuoteDatetime          570 non-null datetime64[ns]\n",
      "DaysUntilExpiration    570 non-null int64\n",
      "TimeUntilExpiration    570 non-null float64\n",
      "InterestRate           570 non-null float64\n",
      "Mid                    570 non-null float64\n",
      "dtypes: bool(1), datetime64[ns](2), float64(9), int64(3), object(4)\n",
      "memory usage: 85.2+ KB\n"
     ]
    }
   ],
   "source": [
    "options_frame.info()"
   ]
  },
  {
   "cell_type": "code",
   "execution_count": 44,
   "metadata": {
    "collapsed": false,
    "scrolled": true
   },
   "outputs": [
    {
     "data": {
      "text/html": [
       "<div>\n",
       "<table border=\"1\" class=\"dataframe\">\n",
       "  <thead>\n",
       "    <tr style=\"text-align: right;\">\n",
       "      <th></th>\n",
       "      <th>Strike</th>\n",
       "      <th>Expiration</th>\n",
       "      <th>OptionType</th>\n",
       "      <th>OptionSymbol</th>\n",
       "      <th>Last</th>\n",
       "      <th>Bid</th>\n",
       "      <th>Ask</th>\n",
       "      <th>OptionChange</th>\n",
       "      <th>Volume</th>\n",
       "      <th>OpenInterest</th>\n",
       "      <th>Root</th>\n",
       "      <th>IsNonstandard</th>\n",
       "      <th>UnderlyingSymbol</th>\n",
       "      <th>UnderlyingPrice</th>\n",
       "      <th>QuoteDatetime</th>\n",
       "      <th>DaysUntilExpiration</th>\n",
       "      <th>TimeUntilExpiration</th>\n",
       "      <th>InterestRate</th>\n",
       "      <th>Mid</th>\n",
       "    </tr>\n",
       "  </thead>\n",
       "  <tbody>\n",
       "    <tr>\n",
       "      <th>0</th>\n",
       "      <td>70</td>\n",
       "      <td>2016-07-15</td>\n",
       "      <td>put</td>\n",
       "      <td>IBM160715P00070000</td>\n",
       "      <td>0.22</td>\n",
       "      <td>0.18</td>\n",
       "      <td>0.35</td>\n",
       "      <td>0</td>\n",
       "      <td>10</td>\n",
       "      <td>0</td>\n",
       "      <td>IBM</td>\n",
       "      <td>False</td>\n",
       "      <td>IBM</td>\n",
       "      <td>131.63</td>\n",
       "      <td>2016-01-11 16:02:00</td>\n",
       "      <td>187</td>\n",
       "      <td>0.510717</td>\n",
       "      <td>0.003336</td>\n",
       "      <td>0.265</td>\n",
       "    </tr>\n",
       "    <tr>\n",
       "      <th>1</th>\n",
       "      <td>70</td>\n",
       "      <td>2017-01-20</td>\n",
       "      <td>put</td>\n",
       "      <td>IBM170120P00070000</td>\n",
       "      <td>0.75</td>\n",
       "      <td>0.80</td>\n",
       "      <td>1.00</td>\n",
       "      <td>0</td>\n",
       "      <td>1</td>\n",
       "      <td>0</td>\n",
       "      <td>IBM</td>\n",
       "      <td>False</td>\n",
       "      <td>IBM</td>\n",
       "      <td>131.63</td>\n",
       "      <td>2016-01-11 16:02:00</td>\n",
       "      <td>376</td>\n",
       "      <td>1.028525</td>\n",
       "      <td>0.006833</td>\n",
       "      <td>0.900</td>\n",
       "    </tr>\n",
       "    <tr>\n",
       "      <th>2</th>\n",
       "      <td>70</td>\n",
       "      <td>2018-01-19</td>\n",
       "      <td>call</td>\n",
       "      <td>IBM180119C00070000</td>\n",
       "      <td>65.95</td>\n",
       "      <td>59.40</td>\n",
       "      <td>64.00</td>\n",
       "      <td>0</td>\n",
       "      <td>4</td>\n",
       "      <td>0</td>\n",
       "      <td>IBM</td>\n",
       "      <td>False</td>\n",
       "      <td>IBM</td>\n",
       "      <td>131.63</td>\n",
       "      <td>2016-01-11 16:02:00</td>\n",
       "      <td>740</td>\n",
       "      <td>2.025785</td>\n",
       "      <td>0.009961</td>\n",
       "      <td>61.700</td>\n",
       "    </tr>\n",
       "    <tr>\n",
       "      <th>3</th>\n",
       "      <td>70</td>\n",
       "      <td>2018-01-19</td>\n",
       "      <td>put</td>\n",
       "      <td>IBM180119P00070000</td>\n",
       "      <td>1.98</td>\n",
       "      <td>1.80</td>\n",
       "      <td>2.23</td>\n",
       "      <td>0</td>\n",
       "      <td>4</td>\n",
       "      <td>0</td>\n",
       "      <td>IBM</td>\n",
       "      <td>False</td>\n",
       "      <td>IBM</td>\n",
       "      <td>131.63</td>\n",
       "      <td>2016-01-11 16:02:00</td>\n",
       "      <td>740</td>\n",
       "      <td>2.025785</td>\n",
       "      <td>0.009961</td>\n",
       "      <td>2.015</td>\n",
       "    </tr>\n",
       "    <tr>\n",
       "      <th>4</th>\n",
       "      <td>75</td>\n",
       "      <td>2016-07-15</td>\n",
       "      <td>put</td>\n",
       "      <td>IBM160715P00075000</td>\n",
       "      <td>0.40</td>\n",
       "      <td>0.26</td>\n",
       "      <td>0.44</td>\n",
       "      <td>0</td>\n",
       "      <td>3</td>\n",
       "      <td>0</td>\n",
       "      <td>IBM</td>\n",
       "      <td>False</td>\n",
       "      <td>IBM</td>\n",
       "      <td>131.63</td>\n",
       "      <td>2016-01-11 16:02:00</td>\n",
       "      <td>187</td>\n",
       "      <td>0.510717</td>\n",
       "      <td>0.003336</td>\n",
       "      <td>0.350</td>\n",
       "    </tr>\n",
       "  </tbody>\n",
       "</table>\n",
       "</div>"
      ],
      "text/plain": [
       "   Strike Expiration OptionType        OptionSymbol   Last    Bid    Ask  \\\n",
       "0      70 2016-07-15        put  IBM160715P00070000   0.22   0.18   0.35   \n",
       "1      70 2017-01-20        put  IBM170120P00070000   0.75   0.80   1.00   \n",
       "2      70 2018-01-19       call  IBM180119C00070000  65.95  59.40  64.00   \n",
       "3      70 2018-01-19        put  IBM180119P00070000   1.98   1.80   2.23   \n",
       "4      75 2016-07-15        put  IBM160715P00075000   0.40   0.26   0.44   \n",
       "\n",
       "   OptionChange  Volume  OpenInterest Root IsNonstandard UnderlyingSymbol  \\\n",
       "0             0      10             0  IBM         False              IBM   \n",
       "1             0       1             0  IBM         False              IBM   \n",
       "2             0       4             0  IBM         False              IBM   \n",
       "3             0       4             0  IBM         False              IBM   \n",
       "4             0       3             0  IBM         False              IBM   \n",
       "\n",
       "   UnderlyingPrice       QuoteDatetime  DaysUntilExpiration  \\\n",
       "0           131.63 2016-01-11 16:02:00                  187   \n",
       "1           131.63 2016-01-11 16:02:00                  376   \n",
       "2           131.63 2016-01-11 16:02:00                  740   \n",
       "3           131.63 2016-01-11 16:02:00                  740   \n",
       "4           131.63 2016-01-11 16:02:00                  187   \n",
       "\n",
       "   TimeUntilExpiration  InterestRate     Mid  \n",
       "0             0.510717      0.003336   0.265  \n",
       "1             1.028525      0.006833   0.900  \n",
       "2             2.025785      0.009961  61.700  \n",
       "3             2.025785      0.009961   2.015  \n",
       "4             0.510717      0.003336   0.350  "
      ]
     },
     "execution_count": 44,
     "metadata": {},
     "output_type": "execute_result"
    }
   ],
   "source": [
    "options_frame.head()"
   ]
  },
  {
   "cell_type": "markdown",
   "metadata": {},
   "source": [
    "# Applying implied volatility"
   ]
  },
  {
   "cell_type": "markdown",
   "metadata": {},
   "source": [
    "We now have all the input parameters we need to follow the same procedure to add the Black-Scholes option value and the associated greeks. We'll begin as before by defining the functions we'll apply. Note that we have to compute the implied volatiltiy first. It is common practice to use the Black-Scholes equation to compute the implied volalatility then to use that result to compute the greeks.\n",
    "\n",
    "We'll take the mid price (price between bid and ask) as this is generally considered the most representative price to use. As we'll see, there will be issues with the result which we'll have to clean."
   ]
  },
  {
   "cell_type": "code",
   "execution_count": 45,
   "metadata": {
    "collapsed": true
   },
   "outputs": [],
   "source": [
    "def _get_implied_vol_mid(series):\n",
    "    \"\"\"\n",
    "\n",
    "    \"\"\"\n",
    "    option_type = series['OptionType']\n",
    "    S = series['UnderlyingPrice']\n",
    "    K = series['Strike']\n",
    "    r = series['InterestRate']\n",
    "    t = series['TimeUntilExpiration']\n",
    "    mid = series['Mid']\n",
    "    \n",
    "    # build method name\n",
    "    meth_name = '{0}_implied_volatility'.format(option_type)\n",
    "    \n",
    "    # call from globals()\n",
    "    return float(globals().get(meth_name)(S, K, r, t, mid))\n"
   ]
  },
  {
   "cell_type": "code",
   "execution_count": 46,
   "metadata": {
    "collapsed": false
   },
   "outputs": [],
   "source": [
    "# apply the function to the dataframe rowwise\n",
    "options_frame['ImpliedVolatilityMid'] = options_frame.apply(_get_implied_vol_mid, axis=1)"
   ]
  },
  {
   "cell_type": "code",
   "execution_count": 48,
   "metadata": {
    "collapsed": false
   },
   "outputs": [
    {
     "name": "stdout",
     "output_type": "stream",
     "text": [
      "<class 'pandas.core.frame.DataFrame'>\n",
      "Int64Index: 570 entries, 0 to 569\n",
      "Data columns (total 20 columns):\n",
      "Strike                  570 non-null float64\n",
      "Expiration              570 non-null datetime64[ns]\n",
      "OptionType              570 non-null object\n",
      "OptionSymbol            570 non-null object\n",
      "Last                    570 non-null float64\n",
      "Bid                     570 non-null float64\n",
      "Ask                     570 non-null float64\n",
      "OptionChange            570 non-null float64\n",
      "Volume                  570 non-null int64\n",
      "OpenInterest            570 non-null int64\n",
      "Root                    570 non-null object\n",
      "IsNonstandard           570 non-null bool\n",
      "UnderlyingSymbol        570 non-null object\n",
      "UnderlyingPrice         570 non-null float64\n",
      "QuoteDatetime           570 non-null datetime64[ns]\n",
      "DaysUntilExpiration     570 non-null int64\n",
      "TimeUntilExpiration     570 non-null float64\n",
      "InterestRate            570 non-null float64\n",
      "Mid                     570 non-null float64\n",
      "ImpliedVolatilityMid    530 non-null float64\n",
      "dtypes: bool(1), datetime64[ns](2), float64(10), int64(3), object(4)\n",
      "memory usage: 89.6+ KB\n"
     ]
    }
   ],
   "source": [
    "# again, let's take a look\n",
    "options_frame.info()"
   ]
  },
  {
   "cell_type": "code",
   "execution_count": 49,
   "metadata": {
    "collapsed": false
   },
   "outputs": [
    {
     "data": {
      "text/html": [
       "<div>\n",
       "<table border=\"1\" class=\"dataframe\">\n",
       "  <thead>\n",
       "    <tr style=\"text-align: right;\">\n",
       "      <th></th>\n",
       "      <th>Strike</th>\n",
       "      <th>Expiration</th>\n",
       "      <th>OptionType</th>\n",
       "      <th>OptionSymbol</th>\n",
       "      <th>Last</th>\n",
       "      <th>Bid</th>\n",
       "      <th>Ask</th>\n",
       "      <th>OptionChange</th>\n",
       "      <th>Volume</th>\n",
       "      <th>OpenInterest</th>\n",
       "      <th>Root</th>\n",
       "      <th>IsNonstandard</th>\n",
       "      <th>UnderlyingSymbol</th>\n",
       "      <th>UnderlyingPrice</th>\n",
       "      <th>QuoteDatetime</th>\n",
       "      <th>DaysUntilExpiration</th>\n",
       "      <th>TimeUntilExpiration</th>\n",
       "      <th>InterestRate</th>\n",
       "      <th>Mid</th>\n",
       "      <th>ImpliedVolatilityMid</th>\n",
       "    </tr>\n",
       "  </thead>\n",
       "  <tbody>\n",
       "    <tr>\n",
       "      <th>0</th>\n",
       "      <td>70</td>\n",
       "      <td>2016-07-15</td>\n",
       "      <td>put</td>\n",
       "      <td>IBM160715P00070000</td>\n",
       "      <td>0.22</td>\n",
       "      <td>0.18</td>\n",
       "      <td>0.35</td>\n",
       "      <td>0</td>\n",
       "      <td>10</td>\n",
       "      <td>0</td>\n",
       "      <td>IBM</td>\n",
       "      <td>False</td>\n",
       "      <td>IBM</td>\n",
       "      <td>131.63</td>\n",
       "      <td>2016-01-11 16:02:00</td>\n",
       "      <td>187</td>\n",
       "      <td>0.510717</td>\n",
       "      <td>0.003336</td>\n",
       "      <td>0.265</td>\n",
       "      <td>0.445646</td>\n",
       "    </tr>\n",
       "    <tr>\n",
       "      <th>1</th>\n",
       "      <td>70</td>\n",
       "      <td>2017-01-20</td>\n",
       "      <td>put</td>\n",
       "      <td>IBM170120P00070000</td>\n",
       "      <td>0.75</td>\n",
       "      <td>0.80</td>\n",
       "      <td>1.00</td>\n",
       "      <td>0</td>\n",
       "      <td>1</td>\n",
       "      <td>0</td>\n",
       "      <td>IBM</td>\n",
       "      <td>False</td>\n",
       "      <td>IBM</td>\n",
       "      <td>131.63</td>\n",
       "      <td>2016-01-11 16:02:00</td>\n",
       "      <td>376</td>\n",
       "      <td>1.028525</td>\n",
       "      <td>0.006833</td>\n",
       "      <td>0.900</td>\n",
       "      <td>0.395925</td>\n",
       "    </tr>\n",
       "    <tr>\n",
       "      <th>2</th>\n",
       "      <td>70</td>\n",
       "      <td>2018-01-19</td>\n",
       "      <td>call</td>\n",
       "      <td>IBM180119C00070000</td>\n",
       "      <td>65.95</td>\n",
       "      <td>59.40</td>\n",
       "      <td>64.00</td>\n",
       "      <td>0</td>\n",
       "      <td>4</td>\n",
       "      <td>0</td>\n",
       "      <td>IBM</td>\n",
       "      <td>False</td>\n",
       "      <td>IBM</td>\n",
       "      <td>131.63</td>\n",
       "      <td>2016-01-11 16:02:00</td>\n",
       "      <td>740</td>\n",
       "      <td>2.025785</td>\n",
       "      <td>0.009961</td>\n",
       "      <td>61.700</td>\n",
       "      <td>NaN</td>\n",
       "    </tr>\n",
       "    <tr>\n",
       "      <th>3</th>\n",
       "      <td>70</td>\n",
       "      <td>2018-01-19</td>\n",
       "      <td>put</td>\n",
       "      <td>IBM180119P00070000</td>\n",
       "      <td>1.98</td>\n",
       "      <td>1.80</td>\n",
       "      <td>2.23</td>\n",
       "      <td>0</td>\n",
       "      <td>4</td>\n",
       "      <td>0</td>\n",
       "      <td>IBM</td>\n",
       "      <td>False</td>\n",
       "      <td>IBM</td>\n",
       "      <td>131.63</td>\n",
       "      <td>2016-01-11 16:02:00</td>\n",
       "      <td>740</td>\n",
       "      <td>2.025785</td>\n",
       "      <td>0.009961</td>\n",
       "      <td>2.015</td>\n",
       "      <td>0.347376</td>\n",
       "    </tr>\n",
       "    <tr>\n",
       "      <th>4</th>\n",
       "      <td>75</td>\n",
       "      <td>2016-07-15</td>\n",
       "      <td>put</td>\n",
       "      <td>IBM160715P00075000</td>\n",
       "      <td>0.40</td>\n",
       "      <td>0.26</td>\n",
       "      <td>0.44</td>\n",
       "      <td>0</td>\n",
       "      <td>3</td>\n",
       "      <td>0</td>\n",
       "      <td>IBM</td>\n",
       "      <td>False</td>\n",
       "      <td>IBM</td>\n",
       "      <td>131.63</td>\n",
       "      <td>2016-01-11 16:02:00</td>\n",
       "      <td>187</td>\n",
       "      <td>0.510717</td>\n",
       "      <td>0.003336</td>\n",
       "      <td>0.350</td>\n",
       "      <td>0.421225</td>\n",
       "    </tr>\n",
       "  </tbody>\n",
       "</table>\n",
       "</div>"
      ],
      "text/plain": [
       "   Strike Expiration OptionType        OptionSymbol   Last    Bid    Ask  \\\n",
       "0      70 2016-07-15        put  IBM160715P00070000   0.22   0.18   0.35   \n",
       "1      70 2017-01-20        put  IBM170120P00070000   0.75   0.80   1.00   \n",
       "2      70 2018-01-19       call  IBM180119C00070000  65.95  59.40  64.00   \n",
       "3      70 2018-01-19        put  IBM180119P00070000   1.98   1.80   2.23   \n",
       "4      75 2016-07-15        put  IBM160715P00075000   0.40   0.26   0.44   \n",
       "\n",
       "   OptionChange  Volume  OpenInterest Root IsNonstandard UnderlyingSymbol  \\\n",
       "0             0      10             0  IBM         False              IBM   \n",
       "1             0       1             0  IBM         False              IBM   \n",
       "2             0       4             0  IBM         False              IBM   \n",
       "3             0       4             0  IBM         False              IBM   \n",
       "4             0       3             0  IBM         False              IBM   \n",
       "\n",
       "   UnderlyingPrice       QuoteDatetime  DaysUntilExpiration  \\\n",
       "0           131.63 2016-01-11 16:02:00                  187   \n",
       "1           131.63 2016-01-11 16:02:00                  376   \n",
       "2           131.63 2016-01-11 16:02:00                  740   \n",
       "3           131.63 2016-01-11 16:02:00                  740   \n",
       "4           131.63 2016-01-11 16:02:00                  187   \n",
       "\n",
       "   TimeUntilExpiration  InterestRate     Mid  ImpliedVolatilityMid  \n",
       "0             0.510717      0.003336   0.265              0.445646  \n",
       "1             1.028525      0.006833   0.900              0.395925  \n",
       "2             2.025785      0.009961  61.700                   NaN  \n",
       "3             2.025785      0.009961   2.015              0.347376  \n",
       "4             0.510717      0.003336   0.350              0.421225  "
      ]
     },
     "execution_count": 49,
     "metadata": {},
     "output_type": "execute_result"
    }
   ],
   "source": [
    "options_frame.head()"
   ]
  },
  {
   "cell_type": "markdown",
   "metadata": {},
   "source": [
    "# Interpolating missing and bad implied volatility values\n",
    "\n",
    "In the `call_implied_volatility` and `put_implied_volatility` functions we test for the Brentq solver blowing up. The solver will blow up if the option's mid price leads to a negative implied volatility. This happens with deep in or out of the money options where market makers keep the bid-ask spread wide.\n",
    "\n",
    "Let's find the options where the implied volatility is `np.nan`."
   ]
  },
  {
   "cell_type": "code",
   "execution_count": 52,
   "metadata": {
    "collapsed": false
   },
   "outputs": [],
   "source": [
    "bad_iv = options_frame[np.isnan(options_frame['ImpliedVolatilityMid'])]"
   ]
  },
  {
   "cell_type": "code",
   "execution_count": 53,
   "metadata": {
    "collapsed": false
   },
   "outputs": [
    {
     "data": {
      "text/plain": [
       "Strike                  40\n",
       "Expiration              40\n",
       "OptionType              40\n",
       "OptionSymbol            40\n",
       "Last                    40\n",
       "Bid                     40\n",
       "Ask                     40\n",
       "OptionChange            40\n",
       "Volume                  40\n",
       "OpenInterest            40\n",
       "Root                    40\n",
       "IsNonstandard           40\n",
       "UnderlyingSymbol        40\n",
       "UnderlyingPrice         40\n",
       "QuoteDatetime           40\n",
       "DaysUntilExpiration     40\n",
       "TimeUntilExpiration     40\n",
       "InterestRate            40\n",
       "Mid                     40\n",
       "ImpliedVolatilityMid     0\n",
       "dtype: int64"
      ]
     },
     "execution_count": 53,
     "metadata": {},
     "output_type": "execute_result"
    }
   ],
   "source": [
    "bad_iv.count()"
   ]
  },
  {
   "cell_type": "markdown",
   "metadata": {},
   "source": [
    "Now we'll interpolate the missing implied volatility values. There are *much* more sophisticated ways of doing this (see [here](http://blog.nag.com/2013/10/implied-volatility-using-pythons-pandas.html)) but we'll use simple linear interpolation to prove the technique.\n",
    "\n",
    "First we'll define the function which we'll pass the frame to."
   ]
  },
  {
   "cell_type": "code",
   "execution_count": 61,
   "metadata": {
    "collapsed": true
   },
   "outputs": [],
   "source": [
    "def _interp_implied_volatility(options_frame):\n",
    "    \"\"\" Interpolate missing (np.nan) values of implied volatility\n",
    "    We first need to split the chains into expiration and type because we cannot\n",
    "    interpolate across the entire chain, rather within these two groups\n",
    "    \n",
    "    :param options_frame: DataFrame containing options data\n",
    "    :return original DataFrame with ImpliedVolatilityMid column containing interpolated values\n",
    "\n",
    "    \"\"\"\n",
    "    # create a MultiIndex with Expiration, OptionType, the Strike as index, then sort\n",
    "    frame = options_frame.set_index(['Expiration', 'OptionType', 'Strike']).sort_index()\n",
    "    \n",
    "    # pivot the vame with ImpliedVolatilityMid as the values within the table\n",
    "    # this has Strikes along the rows and Expirations along the columns\n",
    "    # the level=1 unstack pivots on Expiration and level=0 unstack pivots on OptionType\n",
    "    unstacked = frame['ImpliedVolatilityMid'].unstack(level=1).unstack(level=0)\n",
    "    \n",
    "    # this line does three things:\n",
    "    #    first interpolates across each Expiration date down the strikes for np.nan values\n",
    "    #    second forward fills values which keeps the last interpolated value as the value to fill\n",
    "    #    third back fills values which keeps the first interpolated value as the value to fill\n",
    "    unstacked_interp = unstacked.interpolate().ffill().bfill()\n",
    "    \n",
    "    # restack into shape of original DataFrame\n",
    "    unstacked_interp_indexed = unstacked_interp.stack(level=0).stack(level=0).reset_index()\n",
    "    \n",
    "    # replace old column with the new column with interpolated and filled values\n",
    "    frame['ImpliedVolatilityMid'] = unstacked_interp_indexed.set_index(['Expiration', 'OptionType', 'Strike'])\n",
    "    \n",
    "    # give our index back\n",
    "    frame.reset_index(inplace=True)\n",
    "    \n",
    "    # return\n",
    "    return frame"
   ]
  },
  {
   "cell_type": "code",
   "execution_count": 62,
   "metadata": {
    "collapsed": false
   },
   "outputs": [],
   "source": [
    "# get the completed frame\n",
    "options_frame = _interp_implied_volatility(options_frame)"
   ]
  },
  {
   "cell_type": "code",
   "execution_count": 63,
   "metadata": {
    "collapsed": true
   },
   "outputs": [],
   "source": [
    "# check to see if there are any np.nans\n",
    "bad_iv_post = options_frame[np.isnan(options_frame['ImpliedVolatilityMid'])]"
   ]
  },
  {
   "cell_type": "code",
   "execution_count": 65,
   "metadata": {
    "collapsed": false
   },
   "outputs": [
    {
     "data": {
      "text/plain": [
       "Expiration              0\n",
       "OptionType              0\n",
       "Strike                  0\n",
       "OptionSymbol            0\n",
       "Last                    0\n",
       "Bid                     0\n",
       "Ask                     0\n",
       "OptionChange            0\n",
       "Volume                  0\n",
       "OpenInterest            0\n",
       "Root                    0\n",
       "IsNonstandard           0\n",
       "UnderlyingSymbol        0\n",
       "UnderlyingPrice         0\n",
       "QuoteDatetime           0\n",
       "DaysUntilExpiration     0\n",
       "TimeUntilExpiration     0\n",
       "InterestRate            0\n",
       "Mid                     0\n",
       "ImpliedVolatilityMid    0\n",
       "dtype: int64"
      ]
     },
     "execution_count": 65,
     "metadata": {},
     "output_type": "execute_result"
    }
   ],
   "source": [
    "bad_iv_post.count()"
   ]
  },
  {
   "cell_type": "markdown",
   "metadata": {},
   "source": [
    "# Applying Black-Scholes and the greeks\n",
    "\n",
    "Before we take a look at the implied volatility, let's apply the Black-Scholes formula and the associated greeks. First we define the functions we'll apply to the frame."
   ]
  },
  {
   "cell_type": "code",
   "execution_count": 93,
   "metadata": {
    "collapsed": true
   },
   "outputs": [],
   "source": [
    "def _get_option_value(series):\n",
    "    \"\"\" Return the option value given the OptionType\n",
    "\n",
    "    :param series: row of the dataframe, accessible by label\n",
    "    :return: Black-Scholes option value\n",
    "\n",
    "    \"\"\"\n",
    "    option_type = series['OptionType']\n",
    "    S = series['UnderlyingPrice']\n",
    "    K = series['Strike']\n",
    "    r = series['InterestRate']\n",
    "    t = series['TimeUntilExpiration']\n",
    "    vol = series['ImpliedVolatilityMid']\n",
    "\n",
    "    meth_name = 'black_scholes_{0}_value'.format(option_type)\n",
    "    return float(globals().get(meth_name)(S, K, r, t, vol))\n",
    "\n",
    "def _get_delta(series):\n",
    "    \"\"\" Return the option delta given the OptionType\n",
    "\n",
    "    :param series: row of the dataframe, accessible by label\n",
    "    :return: option delta\n",
    "\n",
    "    \"\"\"\n",
    "    option_type = series['OptionType']\n",
    "    S = series['UnderlyingPrice']\n",
    "    K = series['Strike']\n",
    "    r = series['InterestRate']\n",
    "    t = series['TimeUntilExpiration']\n",
    "    vol = series['ImpliedVolatilityMid']\n",
    "\n",
    "    meth_name = '{0}_delta'.format(option_type)\n",
    "    return float(globals().get(meth_name)(S, K, r, t, vol))\n",
    "\n",
    "def _get_gamma(series):\n",
    "    \"\"\" Return the option gamma\n",
    "\n",
    "    :param series: row of the dataframe, accessible by label\n",
    "    :return: option gamma\n",
    "\n",
    "    \"\"\"\n",
    "    S = series['UnderlyingPrice']\n",
    "    K = series['Strike']\n",
    "    r = series['InterestRate']\n",
    "    t = series['TimeUntilExpiration']\n",
    "    vol = series['ImpliedVolatilityMid']\n",
    "\n",
    "    return float(gamma(S, K, r, t, vol))\n",
    "\n",
    "def _get_vega(series):\n",
    "    \"\"\" Return the option vega\n",
    "\n",
    "    :param series: row of the dataframe, accessible by label\n",
    "    :return: option vega\n",
    "\n",
    "    \"\"\"\n",
    "    S = series['UnderlyingPrice']\n",
    "    K = series['Strike']\n",
    "    r = series['InterestRate']\n",
    "    t = series['TimeUntilExpiration']\n",
    "    vol = series['ImpliedVolatilityMid']\n",
    "\n",
    "    return float(vega(S, K, r, t, vol))\n",
    "\n",
    "def _get_theta(series):\n",
    "    \"\"\" Return the option theta given the OptionType\n",
    "\n",
    "    :param series: row of the dataframe, accessible by label\n",
    "    :return: option theta\n",
    "\n",
    "    \"\"\"\n",
    "    option_type = series['OptionType']\n",
    "    S = series['UnderlyingPrice']\n",
    "    K = series['Strike']\n",
    "    r = series['InterestRate']\n",
    "    t = series['TimeUntilExpiration']\n",
    "    vol = series['ImpliedVolatilityMid']\n",
    "\n",
    "    meth_name = '{0}_theta'.format(option_type)\n",
    "    return float(globals().get(meth_name)(S, K, r, t, vol))\n",
    "\n",
    "def _get_rho(series):\n",
    "    \"\"\" Return the option rho given the OptionType\n",
    "\n",
    "    :param series: row of the dataframe, accessible by label\n",
    "    :return: option rho\n",
    "\n",
    "    \"\"\"\n",
    "    option_type = series['OptionType']\n",
    "    S = series['UnderlyingPrice']\n",
    "    K = series['Strike']\n",
    "    r = series['InterestRate']\n",
    "    t = series['TimeUntilExpiration']\n",
    "    vol = series['ImpliedVolatilityMid']\n",
    "\n",
    "    meth_name = '{0}_rho'.format(option_type)\n",
    "    return float(globals().get(meth_name)(S, K, r, t, vol))\n",
    "\n",
    "def _get_model_error(series):\n",
    "    \"\"\" Return the error between mid price and model price\n",
    "\n",
    "    :param series: row of the dataframe, accessible by label\n",
    "    :return: error between mid price and model price\n",
    "\n",
    "    \"\"\"\n",
    "    option_mid = series['Mid']\n",
    "\n",
    "    return option_mid - _get_option_value(series)"
   ]
  },
  {
   "cell_type": "code",
   "execution_count": 94,
   "metadata": {
    "collapsed": false
   },
   "outputs": [],
   "source": [
    "# use the apply method to pass each row as a series to the various methods, returns a series in this case\n",
    "options_frame['TheoreticalValue'] = options_frame.apply(_get_option_value, axis=1)\n",
    "options_frame['Delta'] = options_frame.apply(_get_delta, axis=1)\n",
    "options_frame['Gamma'] = options_frame.apply(_get_gamma, axis=1)\n",
    "options_frame['Vega'] = options_frame.apply(_get_vega, axis=1)\n",
    "options_frame['Theta'] = options_frame.apply(_get_theta, axis=1)\n",
    "options_frame['Rho'] = options_frame.apply(_get_rho, axis=1)\n",
    "options_frame['ModelError'] = options_frame.apply(_get_model_error, axis=1)"
   ]
  },
  {
   "cell_type": "code",
   "execution_count": 95,
   "metadata": {
    "collapsed": false
   },
   "outputs": [
    {
     "name": "stdout",
     "output_type": "stream",
     "text": [
      "<class 'pandas.core.frame.DataFrame'>\n",
      "Int64Index: 570 entries, 0 to 569\n",
      "Data columns (total 27 columns):\n",
      "Expiration              570 non-null datetime64[ns]\n",
      "OptionType              570 non-null object\n",
      "Strike                  570 non-null float64\n",
      "OptionSymbol            570 non-null object\n",
      "Last                    570 non-null float64\n",
      "Bid                     570 non-null float64\n",
      "Ask                     570 non-null float64\n",
      "OptionChange            570 non-null float64\n",
      "Volume                  570 non-null int64\n",
      "OpenInterest            570 non-null int64\n",
      "Root                    570 non-null object\n",
      "IsNonstandard           570 non-null bool\n",
      "UnderlyingSymbol        570 non-null object\n",
      "UnderlyingPrice         570 non-null float64\n",
      "QuoteDatetime           570 non-null datetime64[ns]\n",
      "DaysUntilExpiration     570 non-null int64\n",
      "TimeUntilExpiration     570 non-null float64\n",
      "InterestRate            570 non-null float64\n",
      "Mid                     570 non-null float64\n",
      "ImpliedVolatilityMid    570 non-null float64\n",
      "TheoreticalValue        570 non-null float64\n",
      "Delta                   570 non-null float64\n",
      "Gamma                   570 non-null float64\n",
      "Vega                    570 non-null float64\n",
      "Theta                   570 non-null float64\n",
      "Rho                     570 non-null float64\n",
      "ModelError              570 non-null float64\n",
      "dtypes: bool(1), datetime64[ns](2), float64(17), int64(3), object(4)\n",
      "memory usage: 120.8+ KB\n"
     ]
    }
   ],
   "source": [
    "options_frame.info()"
   ]
  },
  {
   "cell_type": "code",
   "execution_count": 69,
   "metadata": {
    "collapsed": false
   },
   "outputs": [
    {
     "data": {
      "text/html": [
       "<div>\n",
       "<table border=\"1\" class=\"dataframe\">\n",
       "  <thead>\n",
       "    <tr style=\"text-align: right;\">\n",
       "      <th></th>\n",
       "      <th>Expiration</th>\n",
       "      <th>OptionType</th>\n",
       "      <th>Strike</th>\n",
       "      <th>OptionSymbol</th>\n",
       "      <th>Last</th>\n",
       "      <th>Bid</th>\n",
       "      <th>Ask</th>\n",
       "      <th>OptionChange</th>\n",
       "      <th>Volume</th>\n",
       "      <th>OpenInterest</th>\n",
       "      <th>...</th>\n",
       "      <th>InterestRate</th>\n",
       "      <th>Mid</th>\n",
       "      <th>ImpliedVolatilityMid</th>\n",
       "      <th>TheoreticalValue</th>\n",
       "      <th>Delta</th>\n",
       "      <th>Gamma</th>\n",
       "      <th>Vega</th>\n",
       "      <th>Theta</th>\n",
       "      <th>Rho</th>\n",
       "      <th>ModelError</th>\n",
       "    </tr>\n",
       "  </thead>\n",
       "  <tbody>\n",
       "    <tr>\n",
       "      <th>0</th>\n",
       "      <td>2016-01-15</td>\n",
       "      <td>call</td>\n",
       "      <td>90</td>\n",
       "      <td>IBM160115C00090000</td>\n",
       "      <td>49.97</td>\n",
       "      <td>39.70</td>\n",
       "      <td>43.55</td>\n",
       "      <td>0</td>\n",
       "      <td>49</td>\n",
       "      <td>0</td>\n",
       "      <td>...</td>\n",
       "      <td>0.0001</td>\n",
       "      <td>41.625</td>\n",
       "      <td>1.137196</td>\n",
       "      <td>41.634597</td>\n",
       "      <td>0.999044</td>\n",
       "      <td>0.000196</td>\n",
       "      <td>0.000468</td>\n",
       "      <td>-0.006052</td>\n",
       "      <td>0.010862</td>\n",
       "      <td>-9.597267e-03</td>\n",
       "    </tr>\n",
       "    <tr>\n",
       "      <th>1</th>\n",
       "      <td>2016-01-15</td>\n",
       "      <td>call</td>\n",
       "      <td>95</td>\n",
       "      <td>IBM160115C00095000</td>\n",
       "      <td>46.00</td>\n",
       "      <td>34.70</td>\n",
       "      <td>38.60</td>\n",
       "      <td>0</td>\n",
       "      <td>1</td>\n",
       "      <td>0</td>\n",
       "      <td>...</td>\n",
       "      <td>0.0001</td>\n",
       "      <td>36.650</td>\n",
       "      <td>1.137196</td>\n",
       "      <td>36.650000</td>\n",
       "      <td>0.996219</td>\n",
       "      <td>0.000684</td>\n",
       "      <td>0.001630</td>\n",
       "      <td>-0.021036</td>\n",
       "      <td>0.011419</td>\n",
       "      <td>5.380372e-09</td>\n",
       "    </tr>\n",
       "    <tr>\n",
       "      <th>2</th>\n",
       "      <td>2016-01-15</td>\n",
       "      <td>call</td>\n",
       "      <td>100</td>\n",
       "      <td>IBM160115C00100000</td>\n",
       "      <td>35.00</td>\n",
       "      <td>29.95</td>\n",
       "      <td>32.75</td>\n",
       "      <td>0</td>\n",
       "      <td>3</td>\n",
       "      <td>0</td>\n",
       "      <td>...</td>\n",
       "      <td>0.0001</td>\n",
       "      <td>31.350</td>\n",
       "      <td>1.215375</td>\n",
       "      <td>31.741550</td>\n",
       "      <td>0.983150</td>\n",
       "      <td>0.002379</td>\n",
       "      <td>0.006055</td>\n",
       "      <td>-0.083433</td>\n",
       "      <td>0.011805</td>\n",
       "      <td>-3.915499e-01</td>\n",
       "    </tr>\n",
       "    <tr>\n",
       "      <th>3</th>\n",
       "      <td>2016-01-15</td>\n",
       "      <td>call</td>\n",
       "      <td>105</td>\n",
       "      <td>IBM160115C00105000</td>\n",
       "      <td>35.40</td>\n",
       "      <td>25.70</td>\n",
       "      <td>28.60</td>\n",
       "      <td>0</td>\n",
       "      <td>1</td>\n",
       "      <td>0</td>\n",
       "      <td>...</td>\n",
       "      <td>0.0001</td>\n",
       "      <td>27.150</td>\n",
       "      <td>1.371732</td>\n",
       "      <td>27.150000</td>\n",
       "      <td>0.942286</td>\n",
       "      <td>0.005821</td>\n",
       "      <td>0.016721</td>\n",
       "      <td>-0.259988</td>\n",
       "      <td>0.011710</td>\n",
       "      <td>-1.466858e-07</td>\n",
       "    </tr>\n",
       "    <tr>\n",
       "      <th>4</th>\n",
       "      <td>2016-01-15</td>\n",
       "      <td>call</td>\n",
       "      <td>110</td>\n",
       "      <td>IBM160115C00110000</td>\n",
       "      <td>30.40</td>\n",
       "      <td>20.80</td>\n",
       "      <td>23.60</td>\n",
       "      <td>0</td>\n",
       "      <td>5</td>\n",
       "      <td>0</td>\n",
       "      <td>...</td>\n",
       "      <td>0.0001</td>\n",
       "      <td>22.200</td>\n",
       "      <td>1.168829</td>\n",
       "      <td>22.200001</td>\n",
       "      <td>0.928030</td>\n",
       "      <td>0.008109</td>\n",
       "      <td>0.019849</td>\n",
       "      <td>-0.262974</td>\n",
       "      <td>0.012081</td>\n",
       "      <td>-5.028846e-07</td>\n",
       "    </tr>\n",
       "  </tbody>\n",
       "</table>\n",
       "<p>5 rows × 27 columns</p>\n",
       "</div>"
      ],
      "text/plain": [
       "  Expiration OptionType  Strike        OptionSymbol   Last    Bid    Ask  \\\n",
       "0 2016-01-15       call      90  IBM160115C00090000  49.97  39.70  43.55   \n",
       "1 2016-01-15       call      95  IBM160115C00095000  46.00  34.70  38.60   \n",
       "2 2016-01-15       call     100  IBM160115C00100000  35.00  29.95  32.75   \n",
       "3 2016-01-15       call     105  IBM160115C00105000  35.40  25.70  28.60   \n",
       "4 2016-01-15       call     110  IBM160115C00110000  30.40  20.80  23.60   \n",
       "\n",
       "   OptionChange  Volume  OpenInterest      ...      InterestRate     Mid  \\\n",
       "0             0      49             0      ...            0.0001  41.625   \n",
       "1             0       1             0      ...            0.0001  36.650   \n",
       "2             0       3             0      ...            0.0001  31.350   \n",
       "3             0       1             0      ...            0.0001  27.150   \n",
       "4             0       5             0      ...            0.0001  22.200   \n",
       "\n",
       "  ImpliedVolatilityMid  TheoreticalValue     Delta     Gamma      Vega  \\\n",
       "0             1.137196         41.634597  0.999044  0.000196  0.000468   \n",
       "1             1.137196         36.650000  0.996219  0.000684  0.001630   \n",
       "2             1.215375         31.741550  0.983150  0.002379  0.006055   \n",
       "3             1.371732         27.150000  0.942286  0.005821  0.016721   \n",
       "4             1.168829         22.200001  0.928030  0.008109  0.019849   \n",
       "\n",
       "      Theta       Rho    ModelError  \n",
       "0 -0.006052  0.010862 -9.597267e-03  \n",
       "1 -0.021036  0.011419  5.380372e-09  \n",
       "2 -0.083433  0.011805 -3.915499e-01  \n",
       "3 -0.259988  0.011710 -1.466858e-07  \n",
       "4 -0.262974  0.012081 -5.028846e-07  \n",
       "\n",
       "[5 rows x 27 columns]"
      ]
     },
     "execution_count": 69,
     "metadata": {},
     "output_type": "execute_result"
    }
   ],
   "source": [
    "options_frame.head()"
   ]
  },
  {
   "cell_type": "markdown",
   "metadata": {},
   "source": [
    "# Analyzing the results\n"
   ]
  },
  {
   "cell_type": "markdown",
   "metadata": {
    "collapsed": true
   },
   "source": [
    "It's useful to visualize some of the data we've created. A quantitative analyst has to essentially be a full stack analyst/developer understanding the implications of the valuation models and metrics.\n",
    "\n",
    "We'll start by simply ploting the model error. Because we computed implied volatility from the Black-Scholes model and the mid pricethen plugged it back in to the model, you may expect there to be no model error.\n",
    "\n",
    "As you can see from the histogram, this is not the case. In fact there are several occasions where the model error is relatively large."
   ]
  },
  {
   "cell_type": "code",
   "execution_count": 99,
   "metadata": {
    "collapsed": false
   },
   "outputs": [
    {
     "data": {
      "text/plain": [
       "<matplotlib.axes._subplots.AxesSubplot at 0x1c0af198>"
      ]
     },
     "execution_count": 99,
     "metadata": {},
     "output_type": "execute_result"
    },
    {
     "data": {
      "image/png": "[encoded data removed]",
      "text/plain": [
       "<matplotlib.figure.Figure at 0x1c0bb2b0>"
      ]
     },
     "metadata": {},
     "output_type": "display_data"
    }
   ],
   "source": [
    "options_frame['ModelError'].hist()"
   ]
  },
  {
   "cell_type": "markdown",
   "metadata": {},
   "source": [
    "What's the explanation?\n",
    "\n",
    "Based on some of my comments above, our hypothesis should be that deep in or out of the money options largely have wide bid-ask spreads leading to mis-pricing of the options. Let's plot strike v. model error."
   ]
  },
  {
   "cell_type": "code",
   "execution_count": 160,
   "metadata": {
    "collapsed": false
   },
   "outputs": [
    {
     "data": {
      "text/plain": [
       "<matplotlib.axes._subplots.AxesSubplot at 0x2b970eb8>"
      ]
     },
     "execution_count": 160,
     "metadata": {},
     "output_type": "execute_result"
    },
    {
     "data": {
      "image/png": "[encoded data removed]",
      "text/plain": [
       "<matplotlib.figure.Figure at 0x2b920e10>"
      ]
     },
     "metadata": {},
     "output_type": "display_data"
    }
   ],
   "source": [
    "# grab the index of the 50 largest abs(errors)\n",
    "sorted_errors_idx = options_frame['ModelError'].map(abs).sort_values(ascending=False).head(50)\n",
    "\n",
    "# get the rest of the details\n",
    "errors_20_largest_by_strike = options_frame.ix[sorted_errors_idx.index]\n",
    "\n",
    "# plot model error against strike, many expirations included\n",
    "errors_20_largest_by_strike[['Strike', 'ModelError']].sort_values(by='Strike').plot(kind='bar', x='Strike')\n"
   ]
  },
  {
   "cell_type": "markdown",
   "metadata": {},
   "source": [
    "We can also explore how the bid-ask spread contributes to model error."
   ]
  },
  {
   "cell_type": "code",
   "execution_count": 161,
   "metadata": {
    "collapsed": false
   },
   "outputs": [
    {
     "data": {
      "text/plain": [
       "<matplotlib.axes._subplots.AxesSubplot at 0x2bf0bb38>"
      ]
     },
     "execution_count": 161,
     "metadata": {},
     "output_type": "execute_result"
    },
    {
     "data": {
      "image/png": "[encoded data removed]",
      "text/plain": [
       "<matplotlib.figure.Figure at 0x2beb1eb8>"
      ]
     },
     "metadata": {},
     "output_type": "display_data"
    }
   ],
   "source": [
    "# add a new column\n",
    "options_frame['BidAskSpread'] = options_frame['Ask'] - options_frame['Bid']\n",
    "\n",
    "# plot model error by bid-ask spread\n",
    "errors_20_largest_by_spread = options_frame.ix[sorted_errors_idx.index]\n",
    "\n",
    "# plot model error against strike, many expirations included\n",
    "errors_20_largest_by_spread[['BidAskSpread', 'ModelError']].sort_values(by='BidAskSpread').plot(kind='bar', x='BidAskSpread')"
   ]
  },
  {
   "cell_type": "code",
   "execution_count": null,
   "metadata": {
    "collapsed": true
   },
   "outputs": [],
   "source": []
  },
  {
   "cell_type": "code",
   "execution_count": 235,
   "metadata": {
    "collapsed": false
   },
   "outputs": [],
   "source": [
    "# select an expiration to plot\n",
    "iv = options_frame[options_frame['Expiration'] == '2016-03-18']"
   ]
  },
  {
   "cell_type": "code",
   "execution_count": 236,
   "metadata": {
    "collapsed": true
   },
   "outputs": [],
   "source": [
    "# get the call options\n",
    "iv_call = iv[iv['OptionType'] == 'call']"
   ]
  },
  {
   "cell_type": "code",
   "execution_count": 257,
   "metadata": {
    "collapsed": false
   },
   "outputs": [
    {
     "data": {
      "text/plain": [
       "<matplotlib.axes._subplots.AxesSubplot at 0x10e393d10>"
      ]
     },
     "execution_count": 257,
     "metadata": {},
     "output_type": "execute_result"
    },
    {
     "data": {
      "image/png": "[encoded data removed]",
      "text/plain": [
       "<matplotlib.figure.Figure at 0x10dd64590>"
      ]
     },
     "metadata": {},
     "output_type": "display_data"
    }
   ],
   "source": [
    "# set the strike as the index so pandas plots nicely\n",
    "iv_call[['Strike', 'ImpliedVolatilityMid']].set_index('Strike').plot()"
   ]
  },
  {
   "cell_type": "code",
   "execution_count": null,
   "metadata": {
    "collapsed": true
   },
   "outputs": [],
   "source": []
  },
  {
   "cell_type": "code",
   "execution_count": null,
   "metadata": {
    "collapsed": true
   },
   "outputs": [],
   "source": []
  },
  {
   "cell_type": "code",
   "execution_count": 102,
   "metadata": {
    "collapsed": false
   },
   "outputs": [],
   "source": [
    "# select a strike to plot\n",
    "iv = options_frame[options_frame['Strike'] == 135.0]"
   ]
  },
  {
   "cell_type": "code",
   "execution_count": 103,
   "metadata": {
    "collapsed": true
   },
   "outputs": [],
   "source": [
    "# get the call options\n",
    "iv_call = iv[iv['OptionType'] == 'call']"
   ]
  },
  {
   "cell_type": "code",
   "execution_count": 105,
   "metadata": {
    "collapsed": false
   },
   "outputs": [
    {
     "data": {
      "text/plain": [
       "<matplotlib.axes._subplots.AxesSubplot at 0x1c658358>"
      ]
     },
     "execution_count": 105,
     "metadata": {},
     "output_type": "execute_result"
    },
    {
     "data": {
      "image/png": "[encoded data removed]",
      "text/plain": [
       "<matplotlib.figure.Figure at 0x1c63ac50>"
      ]
     },
     "metadata": {},
     "output_type": "display_data"
    }
   ],
   "source": [
    "# set the strike as the index so pandas plots nicely\n",
    "iv_call[['Expiration', 'ImpliedVolatilityMid']].set_index('Expiration').plot()"
   ]
  },
  {
   "cell_type": "code",
   "execution_count": null,
   "metadata": {
    "collapsed": true
   },
   "outputs": [],
   "source": []
  },
  {
   "cell_type": "markdown",
   "metadata": {},
   "source": [
    "# Unit tests\n",
    "It's always important to test your code, especially in quant finance. Becuase the Black-Scholes is closed form and widely known, there are many pricing calculators online. My favorite is from [888options.com](http://www.888options.com)"
   ]
  },
  {
   "cell_type": "markdown",
   "metadata": {},
   "source": [
    "# References\n",
    "\n",
    "* http://daringfireball.net/projects/markdown/syntax\n",
    "* https://en.wikipedia.org/wiki/Black%E2%80%93Scholes_model\n",
    "* https://en.wikipedia.org/wiki/Greeks_(finance)\n",
    "* http://www.888options.com\n",
    "* http://www.codecogs.com/latex/eqneditor.php\n",
    "* http://www.bespokeoptions.com/blog/2015/10/06/implied-volatility-with-c-and-python-pt-1\n",
    "* http://docs.scipy.org/doc/scipy-0.14.0/reference/generated/scipy.optimize.brentq.html\n",
    "* http://blog.nag.com/2013/10/implied-volatility-using-pythons-pandas.html"
   ]
  },
  {
   "cell_type": "code",
   "execution_count": null,
   "metadata": {
    "collapsed": true
   },
   "outputs": [],
   "source": []
  }
 ],
 "metadata": {
  "kernelspec": {
   "display_name": "Python 2",
   "language": "python",
   "name": "python2"
  },
  "language_info": {
   "codemirror_mode": {
    "name": "ipython",
    "version": 2
   },
   "file_extension": ".py",
   "mimetype": "text/x-python",
   "name": "python",
   "nbconvert_exporter": "python",
   "pygments_lexer": "ipython2",
   "version": "2.7.11"
  }
 },
 "nbformat": 4,
 "nbformat_minor": 0
}
