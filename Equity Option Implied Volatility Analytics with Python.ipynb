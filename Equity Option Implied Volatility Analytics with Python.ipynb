{
 "cells": [
  {
   "cell_type": "markdown",
   "metadata": {},
   "source": [
    "## Equity Option Implied Volatility Analytics with Python\n",
    "\n",
    "Python has become an increasingly important tool in the domain of quantitative and algorithmic trading and research. This extends from senior quantitative analysts pricing complex derivatives using numerical techniques all the way to the retail trader using closed form valuation methods and analysis techniques. This talk will focus on the uses of Python in discovering unobserved features of listed equity options.\n",
    "\n",
    "The Black-Scholes option pricing formula was first published in 1973 in a paper called \"The Pricing of Options and Corporate Liabilities\". In that paper Fischer Black and Myron Scholes derived an equation which estimates the price of an option over time. This formula and its associated \"greeks\" have become ubiquitous in options trading.\n",
    "\n",
    "In this talk, we'll demonstrate how to gather options data using the Pandas module and apply various transformations to obtain the theoretical value of the option and the associated greeks. We'll then extend the talk to discuss implied volatility and show how to use Numpy methods to compute implied volatility. We'll use the results to visualize the so-called volatility skew and term structure to help inform potential trading decisions."
   ]
  },
  {
   "cell_type": "markdown",
   "metadata": {},
   "source": [
    "## About me\n",
    "\n",
    "In undergrad studied finance, economics and computer science. Graduate school studied quantitative finance and trading. Traded interest rate derivatives for a hedge fund in Chicago, USA, worked for JPMorgan, BP and am now APAC CIO at global agricultural trading firm.\n",
    "\n",
    "CIO has nothing to do with technology so I code in my free time."
   ]
  },
  {
   "cell_type": "markdown",
   "metadata": {},
   "source": [
    "# What are options?\n",
    "\n",
    "Derivative contract that conveys the buyer the right (but not obligation) to buy the underlying security in the case of a call option or sell the underlying security in the case of a put option at a given price before a given date (for American style options) or on a given date (European style options).\n",
    "\n",
    "There are many types of options of which only a few are available for retail traders. \"Exotics\" exist that are generally large dollar trades (millions of US$) and traded among investment banks.\n",
    "\n",
    "We will focus on plain vanilla, european style, equity options so we can use \"simple\" pricing models.\n",
    "\n",
    "Most derivatives have a payoff at the end of the life of the contract (expiration). For a call option, the payoff can be expressed simply as:\n",
    "\n",
    "$$max(S-k, 0)$$\n",
    "\n",
    "While the payoff for a put option can be expressed as:\n",
    "\n",
    "$$max(k-S, 0)$$\n",
    "\n",
    "Where $S$ and $k$ are defined below. In this case, $k$ remains fixed during the life of a contract.\n",
    "\n",
    "Across a range of potential $S$ values, we can form what is commonly known as the \"payoff profile\" for a call option at expiration."
   ]
  },
  {
   "cell_type": "code",
   "execution_count": 14,
   "metadata": {
    "collapsed": false
   },
   "outputs": [
    {
     "data": {
      "text/plain": [
       "[<matplotlib.lines.Line2D at 0x106606490>]"
      ]
     },
     "execution_count": 14,
     "metadata": {},
     "output_type": "execute_result"
    },
    {
     "data": {
      "image/png": "[encoded data removed]",
      "text/plain": [
       "<matplotlib.figure.Figure at 0x106337ad0>"
      ]
     },
     "metadata": {},
     "output_type": "display_data"
    }
   ],
   "source": [
    "# magic function to plot inline\n",
    "%matplotlib inline\n",
    "\n",
    "# import numpy and pyplot\n",
    "import numpy as np\n",
    "import matplotlib.pyplot as plt\n",
    "\n",
    "# create an array of fake stock prices from 40.0 to 50.0\n",
    "S = np.arange(40.0, 50.0, 0.01)\n",
    "\n",
    "# strike price\n",
    "k = 45.0\n",
    "\n",
    "# use a lambda for a payoff function\n",
    "# equivelant to:\n",
    "# def call_payoff(S, k):\n",
    "#     return np.maximum(S - k, 0.0)\n",
    "call_payoff = lambda S, k: np.maximum(S - k, 0.0)\n",
    "\n",
    "# plot the results\n",
    "plt.plot(S, call_payoff(S, k))"
   ]
  },
  {
   "cell_type": "markdown",
   "metadata": {},
   "source": [
    "# Important jargon\n",
    "\n",
    "Options priced with our simple pricing model have five variables, four of which can be observed in the market and one of which is latent (unobservable, more on this later).\n",
    "\n",
    "* __Underlying stock price ($S$)__. Price of the underlying stock upon which the option derives its value.\n",
    "\n",
    "* __Strike price ($k$)__. The price at which the owner of the option can buy the underlying in the case of a call or sell the underlying in the case of a put.\n",
    "\n",
    "* __Time to expiration ($t$)__. Time (as a fraction of a 365 day year) until the expiration of the option.\n",
    "\n",
    "* __Risk free rate ($r$)__. So-called risk free rate (this is better described as the rate of interest you would earn in a riskless security over the holding period of the option)\n",
    "\n",
    "* __Volatility ($v$)__. Volatility (or more usually implied volatility) is a latent value not actually observed in the market."
   ]
  },
  {
   "cell_type": "markdown",
   "metadata": {},
   "source": [
    "# What is the Black-Scholes option pricing model?\n",
    "\n",
    "Simply put, it prices a european style equity option before expiration."
   ]
  },
  {
   "cell_type": "code",
   "execution_count": null,
   "metadata": {
    "collapsed": true
   },
   "outputs": [],
   "source": []
  },
  {
   "cell_type": "code",
   "execution_count": null,
   "metadata": {
    "collapsed": true
   },
   "outputs": [],
   "source": []
  },
  {
   "cell_type": "code",
   "execution_count": null,
   "metadata": {
    "collapsed": true
   },
   "outputs": [],
   "source": []
  },
  {
   "cell_type": "code",
   "execution_count": null,
   "metadata": {
    "collapsed": true
   },
   "outputs": [],
   "source": []
  },
  {
   "cell_type": "markdown",
   "metadata": {},
   "source": [
    "### References\n",
    "\n",
    "* http://daringfireball.net/projects/markdown/syntax\n",
    "* https://en.wikipedia.org/wiki/Black%E2%80%93Scholes_model"
   ]
  },
  {
   "cell_type": "code",
   "execution_count": null,
   "metadata": {
    "collapsed": true
   },
   "outputs": [],
   "source": []
  }
 ],
 "metadata": {
  "kernelspec": {
   "display_name": "Python 2",
   "language": "python",
   "name": "python2"
  },
  "language_info": {
   "codemirror_mode": {
    "name": "ipython",
    "version": 2
   },
   "file_extension": ".py",
   "mimetype": "text/x-python",
   "name": "python",
   "nbconvert_exporter": "python",
   "pygments_lexer": "ipython2",
   "version": "2.7.10"
  }
 },
 "nbformat": 4,
 "nbformat_minor": 0
}
